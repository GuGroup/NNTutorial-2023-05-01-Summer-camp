{
 "cells": [
  {
   "cell_type": "markdown",
   "id": "65375282",
   "metadata": {},
   "source": [
    "# Google Colab 튜토리얼\n",
    "작성자 - 구근호\n",
    "## 1. Why Google Colab?\n",
    "Google Colab은 무료 온라인 GPU를 제공하여 파이썬에서 pytorch, tensorflow를 사용하여 딥 러닝 모델을 사용할 수 있습니다. GPU가 없는 초보자들에게도 GPU를 사용하여 연습할 수 있는 인터페이스를 제공합니다.\n",
    "\n",
    "## 2. Colab 사용법\n",
    "Google 계정 로그인 후 Google colab 웹사이트로 갑니다.\n",
    "\n",
    "<img src=\"img/img1.png\" style=\"max-width: 800px;\">\n",
    "\n",
    "오른쪽 아래에 뉴 노트북을 누릅니다.\n",
    "\n",
    "<img src=\"img/img2.png\" style=\"max-width: 800px;\">\n",
    "\n",
    "원하는 이름으로 정합니다.\n",
    "\n",
    "<img src=\"img/img3.png\" style=\"max-width: 800px;\">\n",
    "\n",
    "\n",
    "Ctrl+엔터나 화살표를 눌러서 코드를 돌릴 수가 있고, + code를 눌러서 새로운 블락을 추가할 수 있습니다.\n",
    "\n",
    "<img src=\"img/img4.png\" style=\"max-width: 800px;\">\n",
    "\n",
    "## 부록1. GPU 사용법\n",
    "\n",
    "오른쪽 매뉴에서 설정을 바꾸면 사용할 수 있습니다. **[Edit] → [Notebook settings] → [Hardware accelerator] → [None]** None을 **[GPU]** 로 바꾸고 **→ [Save]** 를 누릅니다. 이제 Google이 제공하는 GPU를 사용할 수 있습니다.\n",
    "\n",
    "<img src=\"img/img5.png\" style=\"max-width: 800px;\">\n",
    "\n",
    "<img src=\"img/img6.png\" style=\"max-width: 800px;\">\n",
    "\n",
    "\"!nvidia-smi\"명령어를 사용하여 GPU 상태를 확인할 수 있습니다.\n",
    "\n",
    "<img src=\"img/img7.png\" style=\"max-width: 800px;\">\n",
    "\n",
    "## 부록2. Google Drive 사용법\n",
    "\n",
    "왼쪽바에 폴더 아이콘을 클릭하고 구글 드라이브 아이콘을 클릭합니다.\n",
    "\n",
    "<img src=\"img/img8.png\" style=\"max-width: 800px;\">\n",
    "\n",
    "Google Colab에게 Google Drive 접근 권한을 줍니다.\n",
    "\n",
    "<img src=\"img/img9.png\" style=\"max-width: 800px;\">\n",
    "\n",
    "Google Drive가 연결이 된것을 볼 수 있고, **[drive] → [MyDrive]** 에 있는 파일들이 Google Drive에 있는 파일들입니다.\n",
    "\n",
    "<img src=\"img/img10.png\" style=\"max-width: 800px;\">\n",
    "\n",
    "아래 명령어를 사용해서도 Google Drive에 연결할 수 있습니다.\n",
    "```\n",
    "from google.colab import drive\n",
    "drive.mount('/content/drive')\n",
    "```\n"
   ]
  },
  {
   "cell_type": "code",
   "execution_count": null,
   "id": "56a4d6c0",
   "metadata": {},
   "outputs": [],
   "source": []
  }
 ],
 "metadata": {
  "kernelspec": {
   "display_name": "Python 3",
   "language": "python",
   "name": "python3"
  },
  "language_info": {
   "codemirror_mode": {
    "name": "ipython",
    "version": 3
   },
   "file_extension": ".py",
   "mimetype": "text/x-python",
   "name": "python",
   "nbconvert_exporter": "python",
   "pygments_lexer": "ipython3",
   "version": "3.8.8"
  }
 },
 "nbformat": 4,
 "nbformat_minor": 5
}
