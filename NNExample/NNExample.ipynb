{
 "cells": [
  {
   "cell_type": "markdown",
   "metadata": {
    "id": "I-S4M88etCot"
   },
   "source": [
    "# 데이터\n",
    "소스: https://github.com/ECSIM/pem-dataset1/tree/master/Standard%20Test%20of%20Nafion%20Membrane%20112\n",
    "### 구조\n",
    "- Anode: \n",
    "\t- Carbon paper Ballard\n",
    "\t- Platinum-Carbon 20% \n",
    "\t- Nafion solution (27% weight)\n",
    "\t- 80ml Isopropyl alcohol\n",
    "\t- 20ml double distilled water \n",
    "\t- Loading of Platinum= 0.39 mg/cm2\n",
    "- Cathode: \n",
    "\t- Carbon paper Ballard\n",
    "\t- Platinum-Carbon 20%\n",
    "\t- Nafion solution (25% weight)\n",
    "\t- 80ml Isopropyl alcohol\n",
    "\t- 20ml double distilled water\n",
    "\t- Loading of Platinum= 0.39 mg/cm2\n",
    "\n",
    "### 실험 환경\n",
    "- Cell temperature= 75 C\n",
    "- Anode temperature= 80 C\n",
    "- Cathode temperature= 48-59-70-75 C"
   ]
  },
  {
   "cell_type": "markdown",
   "metadata": {},
   "source": [
    "# 데이터 다운로드"
   ]
  },
  {
   "cell_type": "code",
   "execution_count": 2,
   "metadata": {},
   "outputs": [
    {
     "data": {
      "text/plain": [
       "('data.csv', <http.client.HTTPMessage at 0x21198adaaf0>)"
      ]
     },
     "execution_count": 2,
     "metadata": {},
     "output_type": "execute_result"
    }
   ],
   "source": [
    "import urllib.request\n",
    "urllib.request.urlretrieve(\"https://raw.githubusercontent.com/GuGroup/ShortNNTutorial/main/NNExample/data.csv\", \"data.csv\")"
   ]
  },
  {
   "cell_type": "markdown",
   "metadata": {
    "id": "p0XLdQxhuSVX"
   },
   "source": [
    "# 데이터 분석\n",
    "데이터 분석\n",
    "<img src=\"https://github.com/GuGroup/ShortNNTutorial/blob/main/NNExample/img/data.png?raw=1\" style=\"max-width: 800px;\">\n",
    "\n",
    "A열 - 전류 밀도 - 예측 하고 싶은 값\n",
    "\n",
    "B열 - 셀 전압   - input 1\n",
    "\n",
    "C열 - 수소 압력 - input 2\n",
    "\n",
    "D열 - 상대 습도 - input 3\n",
    "\n",
    "E열 - 막 압축   - input 4\n",
    "\n",
    "<img src=\"https://github.com/GuGroup/ShortNNTutorial/blob/main/NNExample/img/plots.png?raw=1\" style=\"max-width: 800px;\">\n",
    "\n",
    "# 파이썬상에서 데이터 불러오기"
   ]
  },
  {
   "cell_type": "code",
   "execution_count": 6,
   "metadata": {
    "id": "mlt1ShlUtAOS"
   },
   "outputs": [],
   "source": [
    "import csv\n",
    "import torch\n",
    "\n",
    "with open('data.csv') as f:\n",
    "    reader = csv.reader(f)\n",
    "    next(reader)\n",
    "    data = []\n",
    "    for row in reader:\n",
    "        datum = []\n",
    "        for column in row:\n",
    "            datum.append(float(column))\n",
    "        data.append(datum)\n",
    "\n",
    "data = torch.Tensor(data)\n",
    "\n",
    "y = data[:,:1]\n",
    "x = data[:,1:]\n"
   ]
  },
  {
   "cell_type": "markdown",
   "metadata": {},
   "source": [
    "# 데이터 섞기"
   ]
  },
  {
   "cell_type": "code",
   "execution_count": 7,
   "metadata": {},
   "outputs": [],
   "source": [
    "randomized_idx = torch.randperm(data.shape[0])\n",
    "\n",
    "train_ratio = 0.8\n",
    "ntrain = int(data.shape[0]*train_ratio)\n",
    "\n",
    "idx_train = randomized_idx[:ntrain]\n",
    "idx_test = randomized_idx[ntrain:]\n",
    "\n",
    "x_train = x[idx_train,:]\n",
    "y_train = y[idx_train]\n",
    "\n",
    "x_test  = x[idx_test,:]\n",
    "y_test  = y[idx_test]"
   ]
  },
  {
   "cell_type": "markdown",
   "metadata": {},
   "source": [
    "# 데이터 Normalization"
   ]
  },
  {
   "cell_type": "code",
   "execution_count": 8,
   "metadata": {},
   "outputs": [],
   "source": [
    "x_train_mean = x_train.mean(0)\n",
    "x_train_std = x_train.std(0)\n",
    "\n",
    "x_train_normalized = (x_train -x_train_mean)/x_train_std\n",
    "x_test_normalized = (x_test -x_train_mean)/x_train_std\n",
    "\n",
    "y_train_mean  = y_train.mean()\n",
    "y_train_std  = y_train.std()\n",
    "y_train_normalized = (y_train - y_train_mean)/y_train_std\n",
    "y_test_normalized = (y_test - y_train_mean)/y_train_std\n"
   ]
  },
  {
   "cell_type": "markdown",
   "metadata": {},
   "source": [
    "# 모델 구축"
   ]
  },
  {
   "cell_type": "code",
   "execution_count": 9,
   "metadata": {},
   "outputs": [],
   "source": [
    "class NeuralNetwork(torch.nn.Module):\n",
    "    def __init__(self):\n",
    "        super(NeuralNetwork, self).__init__()\n",
    "        self.model = torch.nn.Sequential(\n",
    "                        torch.nn.Linear(4, 32),\n",
    "                        torch.nn.Softplus(),\n",
    "                        torch.nn.Linear(32, 32),\n",
    "                        torch.nn.Softplus(),\n",
    "                        torch.nn.Linear(32, 1))\n",
    "        \n",
    "    def forward(self, x):\n",
    "        y = self.model(x)\n",
    "        return y\n",
    "\n",
    "model = NeuralNetwork()"
   ]
  },
  {
   "cell_type": "markdown",
   "metadata": {},
   "source": [
    "# 모델 학습"
   ]
  },
  {
   "cell_type": "code",
   "execution_count": 10,
   "metadata": {},
   "outputs": [
    {
     "name": "stdout",
     "output_type": "stream",
     "text": [
      "999 0.02299\n",
      "1999 0.01441\n",
      "2999 0.00453\n",
      "3999 0.00331\n",
      "4999 0.00277\n",
      "5999 0.00235\n",
      "6999 0.00201\n",
      "7999 0.00163\n",
      "8999 0.00133\n",
      "9999 0.00108\n"
     ]
    }
   ],
   "source": [
    "criterion = torch.nn.MSELoss()\n",
    "optimizer = torch.optim.Adam(model.parameters(),0.001)\n",
    "for i in range(10000):\n",
    "    y_train_normalized_pred = model(x_train_normalized)\n",
    "    loss = criterion(y_train_normalized_pred,y_train_normalized)\n",
    "    optimizer.zero_grad()\n",
    "    loss.backward()\n",
    "    optimizer.step()\n",
    "    if (i+1) % 1000 == 0:\n",
    "        print(i+1,'%.5f'%loss)"
   ]
  },
  {
   "cell_type": "markdown",
   "metadata": {},
   "source": [
    "# 모델 테스트 "
   ]
  },
  {
   "cell_type": "code",
   "execution_count": 11,
   "metadata": {},
   "outputs": [
    {
     "name": "stdout",
     "output_type": "stream",
     "text": [
      "tensor(0.0017, grad_fn=<MseLossBackward0>)\n",
      " Pred  Real\n",
      "   20    44\n",
      "  938   955\n",
      "  983   979\n",
      "  771   733\n",
      "   18    65\n",
      "  306   291\n",
      "  800   804\n",
      " 1424  1440\n",
      " 1372  1390\n",
      "  889   910\n",
      " 1740  1700\n",
      "   55    36\n",
      " 1853  1870\n",
      "   12    36\n",
      "  863   865\n",
      "  464   465\n",
      "  119   120\n",
      "   54    37\n",
      "  631   627\n",
      "    2    20\n",
      "  227   245\n",
      "  539   547\n",
      "   63    90\n",
      "   58    74\n",
      "  472   483\n",
      " 2097  2120\n",
      "  661   638\n",
      "  356   362\n",
      " 1664  1660\n",
      "  330   307\n",
      "  532   538\n",
      "   19    25\n",
      "  638   627\n",
      "  876   876\n",
      " 1020  1040\n",
      " 1022  1000\n",
      "  285   281\n",
      "  793   812\n",
      " 1802  1820\n",
      "   76    63\n",
      "  827   832\n",
      "  589   586\n",
      "  528   584\n",
      "   59    74\n",
      " 1499  1490\n",
      " 1232  1230\n",
      " 1949  1970\n",
      "   14     1\n",
      "  290   237\n",
      " 1546  1560\n",
      " 1162  1150\n",
      " 1532  1520\n",
      " 1563  1550\n",
      "  122   119\n",
      "  560   557\n",
      " 1254  1270\n",
      "   20    28\n",
      " 1055  1050\n",
      "   48    83\n",
      "   62    40\n",
      "  532   509\n",
      " 1263  1320\n",
      " 1131  1140\n",
      "   91    92\n",
      "  249   227\n",
      " 1335  1410\n",
      " 1331  1290\n",
      "  982  1060\n",
      " 1263  1250\n",
      "   42    33\n",
      " 2032  2030\n",
      "  923   951\n",
      " 1411  1420\n",
      " 1096  1130\n",
      "   71    59\n",
      "  409   361\n",
      "  379   369\n",
      "  810   812\n",
      "   16     0\n",
      " 1675  1660\n",
      "  774   796\n",
      "   96    82\n",
      "    5     0\n",
      " 1431  1440\n",
      "  533   552\n",
      "  180   138\n",
      "  329   349\n",
      " 1093  1090\n",
      "   42    33\n",
      "  971   966\n",
      " 1176  1220\n",
      "  476   462\n",
      "    3     0\n",
      "  116   124\n",
      "  216   227\n",
      "  459   480\n",
      " 1568  1580\n",
      "  766   757\n",
      "   81    76\n",
      " 1247  1270\n",
      "  213   208\n",
      "   69    36\n",
      " 1401  1400\n",
      "  877   857\n",
      " 1512  1530\n",
      "   26    19\n",
      "  279   297\n",
      "   92    70\n",
      "   57    66\n",
      "  870   862\n",
      "  579   554\n",
      "    7    15\n",
      " 1338  1320\n"
     ]
    }
   ],
   "source": [
    "y_test_normalized_pred = model(x_test_normalized)\n",
    "loss = criterion(y_test_normalized_pred,y_test_normalized)\n",
    "print(loss)\n",
    "\n",
    "y_test_pred = y_test_normalized_pred*y_train_std+y_train_mean\n",
    "print(' Pred  Real')\n",
    "for i in range(y_test_pred.shape[0]):\n",
    "    print('%5.0f'%y_test_pred[i],'%5.0f'%y_test[i])\n"
   ]
  },
  {
   "cell_type": "markdown",
   "metadata": {},
   "source": [
    "# 예측 그림 그리기"
   ]
  },
  {
   "cell_type": "code",
   "execution_count": 15,
   "metadata": {
    "scrolled": true
   },
   "outputs": [
    {
     "data": {
      "text/plain": [
       "[<matplotlib.lines.Line2D at 0x211a7ff9c70>]"
      ]
     },
     "execution_count": 15,
     "metadata": {},
     "output_type": "execute_result"
    },
    {
     "data": {
      "image/png": "[encoded data removed]",
      "text/plain": [
       "<Figure size 432x288 with 1 Axes>"
      ]
     },
     "metadata": {
      "needs_background": "light"
     },
     "output_type": "display_data"
    }
   ],
   "source": [
    "import os\n",
    "os.environ[\"KMP_DUPLICATE_LIB_OK\"]=\"TRUE\"\n",
    "\n",
    "import matplotlib.pyplot as plt\n",
    "\n",
    "pressure = 5\n",
    "relative_humidity =30\n",
    "membrane_compression = 11.8\n",
    "\n",
    "example_data = []\n",
    "for d in data:\n",
    "    if d[2] == pressure and d[3] == relative_humidity and d[4] ==membrane_compression:\n",
    "        example_data.append(d)\n",
    "example_data = torch.stack(example_data)\n",
    "\n",
    "test_x_data = []\n",
    "voltages = torch.linspace(0.0,1.0,100)\n",
    "for v in voltages:\n",
    "    test_x_data.append([v,pressure,relative_humidity,membrane_compression])\n",
    "test_x_data = (torch.tensor(test_x_data) -x_train_mean)/x_train_std\n",
    "\n",
    "test_y_data = model(test_x_data)\n",
    "test_y_data = test_y_data.detach()\n",
    "test_y_data = test_y_data*y_train_std+y_train_mean\n",
    "\n",
    "plt.figure()\n",
    "plt.scatter(example_data[:,1],example_data[:,0])\n",
    "plt.ylabel('current density [mA/cm2]')\n",
    "plt.xlabel('voltage [V]')\n",
    "plt.ylim([0,2200])\n",
    "plt.xlim([0,1.1])\n",
    "plt.title('%f %f %f'%(pressure,relative_humidity,membrane_compression))\n",
    "plt.plot(voltages,test_y_data)"
   ]
  }
 ],
 "metadata": {
  "colab": {
   "provenance": []
  },
  "kernelspec": {
   "display_name": "Python 3",
   "language": "python",
   "name": "python3"
  },
  "language_info": {
   "codemirror_mode": {
    "name": "ipython",
    "version": 3
   },
   "file_extension": ".py",
   "mimetype": "text/x-python",
   "name": "python",
   "nbconvert_exporter": "python",
   "pygments_lexer": "ipython3",
   "version": "3.8.8"
  }
 },
 "nbformat": 4,
 "nbformat_minor": 1
}
