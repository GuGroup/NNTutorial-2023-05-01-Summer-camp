{
 "cells": [
  {
   "cell_type": "markdown",
   "metadata": {
    "id": "I-S4M88etCot"
   },
   "source": [
    "# 데이터\n",
    "소스: https://github.com/ECSIM/pem-dataset1/tree/master/Standard%20Test%20of%20Nafion%20Membrane%20112\n",
    "### 구조\n",
    "- Anode: \n",
    "\t- Carbon paper Ballard\n",
    "\t- Platinum-Carbon 20% \n",
    "\t- Nafion solution (27% weight)\n",
    "\t- 80ml Isopropyl alcohol\n",
    "\t- 20ml double distilled water \n",
    "\t- Loading of Platinum= 0.39 mg/cm2\n",
    "- Cathode: \n",
    "\t- Carbon paper Ballard\n",
    "\t- Platinum-Carbon 20%\n",
    "\t- Nafion solution (25% weight)\n",
    "\t- 80ml Isopropyl alcohol\n",
    "\t- 20ml double distilled water\n",
    "\t- Loading of Platinum= 0.39 mg/cm2\n",
    "\n",
    "### 실험 환경\n",
    "- Cell temperature= 75 C\n",
    "- Anode temperature= 80 C\n",
    "- Cathode temperature= 48-59-70-75 C"
   ]
  },
  {
   "cell_type": "markdown",
   "metadata": {},
   "source": [
    "# 데이터 다운로드"
   ]
  },
  {
   "cell_type": "code",
   "execution_count": 8,
   "metadata": {},
   "outputs": [
    {
     "data": {
      "text/plain": [
       "('data.csv', <http.client.HTTPMessage at 0x1b2b79336d0>)"
      ]
     },
     "execution_count": 8,
     "metadata": {},
     "output_type": "execute_result"
    }
   ],
   "source": [
    "import urllib.request\n",
    "urllib.request.urlretrieve(\"https://raw.githubusercontent.com/GuGroup/ShortNNTutorial/main/NNExample/data.csv\", \"data.csv\")"
   ]
  },
  {
   "cell_type": "markdown",
   "metadata": {
    "id": "p0XLdQxhuSVX"
   },
   "source": [
    "# 데이터 불러오기\n",
    "데이터 분석\n",
    "<img src=\"https://github.com/GuGroup/ShortNNTutorial/blob/main/NNExample/img/data.png?raw=1\" style=\"max-width: 800px;\">\n",
    "\n",
    "A열 - 전류 밀도 - 예측 하고 싶은 값\n",
    "\n",
    "B열 - 셀 전압   - input 1\n",
    "\n",
    "C열 - 수소 압력 - input 2\n",
    "\n",
    "D열 - 상대 습도 - input 3\n",
    "\n",
    "E열 - 막 압축   - input 4\n"
   ]
  },
  {
   "cell_type": "markdown",
   "metadata": {},
   "source": [
    "# 파이썬상에서 데이터 불러오기"
   ]
  },
  {
   "cell_type": "code",
   "execution_count": 1,
   "metadata": {
    "id": "mlt1ShlUtAOS"
   },
   "outputs": [],
   "source": [
    "import csv\n",
    "import torch\n",
    "\n",
    "with open('/content/drive/MyDrive/data.csv') as f:\n",
    "    reader = csv.reader(f)\n",
    "    next(reader)\n",
    "    data = []\n",
    "    for row in reader:\n",
    "        datum = []\n",
    "        for column in row:\n",
    "            datum.append(float(column))\n",
    "        data.append(datum)\n",
    "\n",
    "data = torch.Tensor(data)\n",
    "\n",
    "y = data[:,:1]\n",
    "x = data[:,1:]\n"
   ]
  },
  {
   "cell_type": "markdown",
   "metadata": {},
   "source": [
    "# 데이터 섞기"
   ]
  },
  {
   "cell_type": "code",
   "execution_count": 2,
   "metadata": {},
   "outputs": [],
   "source": [
    "randomized_idx = torch.randperm(data.shape[0])\n",
    "\n",
    "train_ratio = 0.8\n",
    "ntrain = int(data.shape[0]*train_ratio)\n",
    "\n",
    "idx_train = randomized_idx[:ntrain]\n",
    "idx_test = randomized_idx[ntrain:]\n",
    "\n",
    "x_train = x[idx_train,:]\n",
    "y_train = y[idx_train]\n",
    "\n",
    "x_test  = x[idx_test,:]\n",
    "y_test  = y[idx_test]\n",
    "\n"
   ]
  },
  {
   "cell_type": "markdown",
   "metadata": {},
   "source": [
    "# 데이터 Normalization"
   ]
  },
  {
   "cell_type": "code",
   "execution_count": 3,
   "metadata": {},
   "outputs": [],
   "source": [
    "x_train_mean = x_train.mean(0)\n",
    "x_train_std = x_train.std(0)\n",
    "\n",
    "x_train_normalized = (x_train -x_train_mean)/x_train_std\n",
    "x_test_normalized = (x_test -x_train_mean)/x_train_std\n",
    "\n",
    "y_train_mean  = y_train.mean()\n",
    "y_train_std  = y_train.std()\n",
    "y_train_normalized = (y_train - y_train_mean)/y_train_std\n",
    "y_test_normalized = (y_test - y_train_mean)/y_train_std\n"
   ]
  },
  {
   "cell_type": "markdown",
   "metadata": {},
   "source": [
    "# 모델 구축"
   ]
  },
  {
   "cell_type": "code",
   "execution_count": 4,
   "metadata": {},
   "outputs": [],
   "source": [
    "class NeuralNetwork(torch.nn.Module):\n",
    "    def __init__(self):\n",
    "        super(NeuralNetwork, self).__init__()\n",
    "        self.model = torch.nn.Sequential(\n",
    "                        torch.nn.Linear(4, 32),\n",
    "                        torch.nn.Softplus(),\n",
    "                        torch.nn.Linear(32, 32),\n",
    "                        torch.nn.Softplus(),\n",
    "                        torch.nn.Linear(32, 1))\n",
    "        \n",
    "    def forward(self, x):\n",
    "        y = self.model(x)\n",
    "        return y\n",
    "\n",
    "model = NeuralNetwork()"
   ]
  },
  {
   "cell_type": "markdown",
   "metadata": {},
   "source": [
    "# 모델 학습"
   ]
  },
  {
   "cell_type": "code",
   "execution_count": 5,
   "metadata": {},
   "outputs": [
    {
     "name": "stdout",
     "output_type": "stream",
     "text": [
      "0 1.45397\n",
      "1000 0.02262\n",
      "2000 0.01932\n",
      "3000 0.00777\n",
      "4000 0.00520\n",
      "5000 0.00342\n",
      "6000 0.00264\n",
      "7000 0.00220\n",
      "8000 0.00184\n",
      "9000 0.00156\n"
     ]
    }
   ],
   "source": [
    "criterion = torch.nn.MSELoss()\n",
    "optimizer = torch.optim.Adam(model.parameters(),0.001)\n",
    "for i in range(10000):\n",
    "    y_train_normalized_pred = model(x_train_normalized)\n",
    "    loss = criterion(y_train_normalized_pred,y_train_normalized)\n",
    "    optimizer.zero_grad()\n",
    "    loss.backward()\n",
    "    optimizer.step()\n",
    "    if (i+1) % 1000 == 0:\n",
    "        print(i,'%.5f'%loss)"
   ]
  },
  {
   "cell_type": "markdown",
   "metadata": {},
   "source": [
    "# 모델 테스트 "
   ]
  },
  {
   "cell_type": "code",
   "execution_count": 6,
   "metadata": {},
   "outputs": [
    {
     "name": "stdout",
     "output_type": "stream",
     "text": [
      "tensor(0.0025, grad_fn=<MseLossBackward0>)\n",
      " Pred  Real\n",
      "   13    25\n",
      "  563   557\n",
      "  791   757\n",
      "  190   188\n",
      " 1516  1490\n",
      "  124   141\n",
      "  460   462\n",
      "  114   114\n",
      "  955   988\n",
      " 1991  1960\n",
      "   41    18\n",
      "  828   832\n",
      "  962   950\n",
      "  346   341\n",
      " 1153  1150\n",
      "  288   237\n",
      "   24     3\n",
      "  105   109\n",
      "  929   929\n",
      " 1573  1590\n",
      "  576   554\n",
      "  739   756\n",
      " 2084  2090\n",
      " 1780  1770\n",
      "  599   606\n",
      " 1119  1090\n",
      "  528   557\n",
      "  642   636\n",
      "  745   716\n",
      " 1390  1400\n",
      "   60    65\n",
      " 1540  1520\n",
      " 1112  1120\n",
      "   59    61\n",
      "  706   693\n",
      "  778   774\n",
      "  116   124\n",
      "  299   297\n",
      "  150   159\n",
      "   -2     3\n",
      " 1312  1340\n",
      "   58    48\n",
      " 1336  1340\n",
      "  742   707\n",
      "   50    54\n",
      "   38    28\n",
      " 1200  1180\n",
      "  319   310\n",
      " 1176  1220\n",
      "  221   226\n",
      "   13    11\n",
      " 1003   953\n",
      "  997  1060\n",
      " 1715  1690\n",
      " 1565  1580\n",
      " 1045  1000\n",
      " 1938  1990\n",
      " 1720  1740\n",
      " 1438  1350\n",
      "  955   955\n",
      " 1228  1230\n",
      "  855   859\n",
      "  844   872\n",
      " 1071  1040\n",
      " 1551  1450\n",
      "  151   151\n",
      " 1134  1140\n",
      "  466   462\n",
      " 1316  1240\n",
      " 1169  1160\n",
      "  100   115\n",
      "  483   486\n",
      "   61    37\n",
      " 1236  1230\n",
      "   53    36\n",
      "  985   971\n",
      " 1255  1250\n",
      "  803   796\n",
      "  979   980\n",
      " 1166  1180\n",
      "   25     0\n",
      "   96    92\n",
      "  216   227\n",
      "  103   103\n",
      " 1411  1420\n",
      " 1027  1020\n",
      "  115   120\n",
      "  637   621\n",
      "  238   164\n",
      "  167   154\n",
      "  909   902\n",
      " 1391  1370\n",
      " 1193  1130\n",
      "    4    18\n",
      "   70    66\n",
      "  450   483\n",
      " 1021  1010\n",
      "   15     1\n",
      " 1298  1390\n",
      "   -6     0\n",
      "  367   365\n",
      "  132   137\n",
      " 1093  1130\n",
      "  429   442\n",
      "  106   118\n",
      "  251   255\n",
      "  224   224\n",
      "  276   294\n",
      "  892   891\n",
      "  427   465\n",
      "  221   217\n",
      "  928   876\n",
      " 1690  1730\n"
     ]
    }
   ],
   "source": [
    "y_test_normalized_pred = model(x_test_normalized)\n",
    "loss = criterion(y_test_normalized_pred,y_test_normalized)\n",
    "print(loss)\n",
    "\n",
    "y_test_pred = y_test_normalized_pred*y_train_std+y_train_mean\n",
    "print(' Pred  Real')\n",
    "for i in range(y_test_pred.shape[0]):\n",
    "    print('%5.0f'%y_test_pred[i],'%5.0f'%y_test[i])\n"
   ]
  },
  {
   "cell_type": "markdown",
   "metadata": {},
   "source": [
    "# 예측 그림 그리기"
   ]
  },
  {
   "cell_type": "code",
   "execution_count": 7,
   "metadata": {},
   "outputs": [
    {
     "data": {
      "text/plain": [
       "[<matplotlib.lines.Line2D at 0x1b2b71e1d60>]"
      ]
     },
     "execution_count": 7,
     "metadata": {},
     "output_type": "execute_result"
    },
    {
     "data": {
      "image/png": "[encoded data removed]",
      "text/plain": [
       "<Figure size 432x288 with 1 Axes>"
      ]
     },
     "metadata": {
      "needs_background": "light"
     },
     "output_type": "display_data"
    }
   ],
   "source": [
    "import os\n",
    "os.environ[\"KMP_DUPLICATE_LIB_OK\"]=\"TRUE\"\n",
    "\n",
    "import matplotlib.pyplot as plt\n",
    "\n",
    "pressure = 5\n",
    "relative_humidity =30\n",
    "membrane_compression = 5\n",
    "\n",
    "example_data = []\n",
    "for d in data:\n",
    "    if d[2] == pressure and d[3] == relative_humidity and d[4] ==membrane_compression:\n",
    "        example_data.append(d)\n",
    "example_data = torch.stack(example_data)\n",
    "\n",
    "test_x_data = []\n",
    "voltages = torch.linspace(0.0,1.0,100)\n",
    "for v in voltages:\n",
    "    test_x_data.append([v,pressure,relative_humidity,membrane_compression])\n",
    "test_x_data = (torch.tensor(test_x_data) -x_train_mean)/x_train_std\n",
    "\n",
    "test_y_data = model(test_x_data)\n",
    "test_y_data = test_y_data.detach()\n",
    "test_y_data = test_y_data*y_train_std+y_train_mean\n",
    "\n",
    "plt.figure()\n",
    "plt.scatter(example_data[:,1],example_data[:,0])\n",
    "plt.ylabel('current density [mA/cm2]')\n",
    "plt.xlabel('voltage [V]')\n",
    "plt.ylim([0,2200])\n",
    "plt.xlim([0,1.1])\n",
    "plt.title('%f %f %f'%(pressure,relative_humidity,membrane_compression))\n",
    "plt.plot(voltages,test_y_data)"
   ]
  },
  {
   "cell_type": "code",
   "execution_count": null,
   "metadata": {},
   "outputs": [],
   "source": []
  }
 ],
 "metadata": {
  "colab": {
   "provenance": []
  },
  "kernelspec": {
   "display_name": "Python 3",
   "language": "python",
   "name": "python3"
  },
  "language_info": {
   "codemirror_mode": {
    "name": "ipython",
    "version": 3
   },
   "file_extension": ".py",
   "mimetype": "text/x-python",
   "name": "python",
   "nbconvert_exporter": "python",
   "pygments_lexer": "ipython3",
   "version": "3.8.8"
  }
 },
 "nbformat": 4,
 "nbformat_minor": 1
}
