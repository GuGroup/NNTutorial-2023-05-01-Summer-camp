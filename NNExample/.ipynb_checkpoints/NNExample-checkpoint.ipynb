{
 "cells": [
  {
   "cell_type": "markdown",
   "metadata": {
    "id": "I-S4M88etCot"
   },
   "source": [
    "# 데이터\n",
    "소스: https://github.com/ECSIM/pem-dataset1/tree/master/Standard%20Test%20of%20Nafion%20Membrane%20112\n",
    "### 구조\n",
    "- Anode: \n",
    "\t- Carbon paper Ballard\n",
    "\t- Platinum-Carbon 20% \n",
    "\t- Nafion solution (27% weight)\n",
    "\t- 80ml Isopropyl alcohol\n",
    "\t- 20ml double distilled water \n",
    "\t- Loading of Platinum= 0.39 mg/cm2\n",
    "- Cathode: \n",
    "\t- Carbon paper Ballard\n",
    "\t- Platinum-Carbon 20%\n",
    "\t- Nafion solution (25% weight)\n",
    "\t- 80ml Isopropyl alcohol\n",
    "\t- 20ml double distilled water\n",
    "\t- Loading of Platinum= 0.39 mg/cm2\n",
    "\n",
    "### 실험 환경\n",
    "- Cell temperature= 75 C\n",
    "- Anode temperature= 80 C\n",
    "- Cathode temperature= 48-59-70-75 C"
   ]
  },
  {
   "cell_type": "markdown",
   "metadata": {},
   "source": [
    "# 데이터 다운로드"
   ]
  },
  {
   "cell_type": "code",
   "execution_count": null,
   "metadata": {},
   "outputs": [],
   "source": [
    "import urllib.request\n",
    "urllib.request.urlretrieve(\"https://raw.githubusercontent.com/GuGroup/ShortNNTutorial/main/NNExample/data.csv\", \"data.csv\")"
   ]
  },
  {
   "cell_type": "markdown",
   "metadata": {
    "id": "p0XLdQxhuSVX"
   },
   "source": [
    "# 데이터 분석\n",
    "데이터 분석\n",
    "<img src=\"https://github.com/GuGroup/ShortNNTutorial/blob/main/NNExample/img/data.png?raw=1\" style=\"max-width: 800px;\">\n",
    "\n",
    "A열 - 전류 밀도 - 예측 하고 싶은 값\n",
    "\n",
    "B열 - 셀 전압   - input 1\n",
    "\n",
    "C열 - 수소 압력 - input 2\n",
    "\n",
    "D열 - 상대 습도 - input 3\n",
    "\n",
    "E열 - 막 압축   - input 4\n",
    "\n",
    "<img src=\"https://github.com/GuGroup/ShortNNTutorial/blob/main/NNExample/img/plots.png?raw=1\" style=\"max-width: 800px;\">\n",
    "\n",
    "# 파이썬상에서 데이터 불러오기"
   ]
  },
  {
   "cell_type": "code",
   "execution_count": null,
   "metadata": {
    "id": "mlt1ShlUtAOS"
   },
   "outputs": [],
   "source": [
    "import pandas as pd\n",
    "df = pd.read_csv('data.csv')\n",
    "data = df.to_numpy()\n",
    "print(data.shape)\n",
    "print(data)"
   ]
  },
  {
   "cell_type": "code",
   "execution_count": null,
   "metadata": {},
   "outputs": [],
   "source": [
    "y = data[:,0]\n",
    "x = data[:,1:]\n",
    "print(y.shape,x.shape)"
   ]
  },
  {
   "cell_type": "markdown",
   "metadata": {},
   "source": [
    "# 데이터 Feature Scaling"
   ]
  },
  {
   "cell_type": "code",
   "execution_count": null,
   "metadata": {},
   "outputs": [],
   "source": [
    "x_mean = x.mean(0)\n",
    "x_std = x.std(0)\n",
    "x_scaled = (x-x_mean)/x_std\n",
    "\n",
    "y_mean = y.mean(0)\n",
    "y_std = y.std(0)\n",
    "y_scaled = (y-y_mean)/y_std\n"
   ]
  },
  {
   "cell_type": "markdown",
   "metadata": {},
   "source": [
    "# 모델 구축"
   ]
  },
  {
   "cell_type": "code",
   "execution_count": null,
   "metadata": {},
   "outputs": [],
   "source": [
    "from sklearn.neural_network import MLPRegressor\n",
    "from sklearn.neural_network import MLPClassifier\n",
    "\n",
    "model = MLPRegressor((64,64),max_iter=1000,alpha=0.001)"
   ]
  },
  {
   "cell_type": "markdown",
   "metadata": {},
   "source": [
    "# 모델 학습"
   ]
  },
  {
   "cell_type": "code",
   "execution_count": null,
   "metadata": {},
   "outputs": [],
   "source": [
    "model.fit(x_scaled,y_scaled)"
   ]
  },
  {
   "cell_type": "markdown",
   "metadata": {},
   "source": [
    "# 예측 그림 그리기"
   ]
  },
  {
   "cell_type": "code",
   "execution_count": null,
   "metadata": {},
   "outputs": [],
   "source": [
    "print(x_scaled[:15,:])"
   ]
  },
  {
   "cell_type": "code",
   "execution_count": null,
   "metadata": {},
   "outputs": [],
   "source": [
    "# (x_scaled*x_std + x_mean)\n",
    "x[:15,:]"
   ]
  },
  {
   "cell_type": "markdown",
   "metadata": {},
   "source": [
    "모델 예측"
   ]
  },
  {
   "cell_type": "code",
   "execution_count": null,
   "metadata": {},
   "outputs": [],
   "source": [
    "y_predicted = model.predict(x_scaled)\n",
    "y_predicted_unscaled = y_predicted*y_std + y_mean"
   ]
  },
  {
   "cell_type": "code",
   "execution_count": null,
   "metadata": {
    "scrolled": true
   },
   "outputs": [],
   "source": [
    "import matplotlib.pyplot as plt\n",
    "plt.figure()\n",
    "plt.scatter(x[:14,0],y_predicted_unscaled[:14])\n",
    "plt.scatter(x[:14,0],y[:14])\n",
    "plt.ylabel('current density [mA/cm2]')\n",
    "plt.xlabel('voltage [V]')\n",
    "plt.ylim([0,2200])\n",
    "plt.xlim([0,1.1])\n"
   ]
  }
 ],
 "metadata": {
  "colab": {
   "provenance": []
  },
  "kernelspec": {
   "display_name": "Python 3",
   "language": "python",
   "name": "python3"
  },
  "language_info": {
   "codemirror_mode": {
    "name": "ipython",
    "version": 3
   },
   "file_extension": ".py",
   "mimetype": "text/x-python",
   "name": "python",
   "nbconvert_exporter": "python",
   "pygments_lexer": "ipython3",
   "version": "3.8.8"
  }
 },
 "nbformat": 4,
 "nbformat_minor": 1
}
