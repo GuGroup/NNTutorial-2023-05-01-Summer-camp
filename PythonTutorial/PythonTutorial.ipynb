{
 "cells": [
  {
   "cell_type": "markdown",
   "metadata": {
    "id": "yqSfOk5qIvcz"
   },
   "source": [
    "# 파이썬, 파이토치, 맷플랏립 튜토리얼\n",
    "\n",
    "파이썬은 많은 과학자들에 사용되고 있는 언어이다. 대부분의 기계학습 모델들은 Tensorflow와 pytorch등의 패키지를 사용하여 구현되고있다. 이 노트북은 python, pytorch, matplotlib의 기초를 설명한다.\n",
    "\n",
    "## 1. 파이썬 기초\n",
    "### Integer and float\n",
    "\n",
    "Integer = number without decimals\n",
    "\n",
    "Float = number with decimals"
   ]
  },
  {
   "cell_type": "code",
   "execution_count": 1,
   "metadata": {
    "colab": {
     "base_uri": "https://localhost:8080/"
    },
    "executionInfo": {
     "elapsed": 294,
     "status": "ok",
     "timestamp": 1662088924042,
     "user": {
      "displayName": "에너지공학부/구근호",
      "userId": "09292163357270917481"
     },
     "user_tz": -540
    },
    "id": "TOi9zMqeKuAw",
    "outputId": "af4933c6-322d-4fb4-d18a-039bb1ec7df2"
   },
   "outputs": [
    {
     "name": "stdout",
     "output_type": "stream",
     "text": [
      "5\n",
      "<class 'int'>\n",
      "5.5\n",
      "<class 'float'>\n",
      "5.0\n",
      "<class 'float'>\n"
     ]
    }
   ],
   "source": [
    "x = 5\n",
    "print(x)\n",
    "print(type(x))\n",
    "\n",
    "x = 5.5\n",
    "print(x)\n",
    "print(type(x))\n",
    "\n",
    "x = 5.\n",
    "print(x)\n",
    "print(type(x))"
   ]
  },
  {
   "cell_type": "markdown",
   "metadata": {
    "id": "quqvPGTBK2BQ"
   },
   "source": [
    "여러가지 기초 연산"
   ]
  },
  {
   "cell_type": "code",
   "execution_count": 2,
   "metadata": {
    "colab": {
     "base_uri": "https://localhost:8080/"
    },
    "executionInfo": {
     "elapsed": 303,
     "status": "ok",
     "timestamp": 1662088328952,
     "user": {
      "displayName": "에너지공학부/구근호",
      "userId": "09292163357270917481"
     },
     "user_tz": -540
    },
    "id": "AuMT-YTbLB_a",
    "outputId": "88725db1-3b94-44ef-9b30-3ff8b9153267"
   },
   "outputs": [
    {
     "name": "stdout",
     "output_type": "stream",
     "text": [
      "10.0\n",
      "2.0\n",
      "45.0\n",
      "2.5\n",
      "1.0\n",
      "2.0\n",
      "125.0\n"
     ]
    }
   ],
   "source": [
    "print(x + 5)  # addition\n",
    "print(x - 3)  # subtraction\n",
    "print(x * 9)  # multiplicatoin\n",
    "print(x / 2)  # division\n",
    "print(x % 2)  # modulus\n",
    "print(x // 2) # floor division\n",
    "print(x ** 3) # exponent"
   ]
  },
  {
   "cell_type": "code",
   "execution_count": 3,
   "metadata": {
    "colab": {
     "base_uri": "https://localhost:8080/"
    },
    "executionInfo": {
     "elapsed": 324,
     "status": "ok",
     "timestamp": 1662088394531,
     "user": {
      "displayName": "에너지공학부/구근호",
      "userId": "09292163357270917481"
     },
     "user_tz": -540
    },
    "id": "B896SracL6W2",
    "outputId": "40532db2-5a7b-4284-9f79-9a716cba7e16"
   },
   "outputs": [
    {
     "name": "stdout",
     "output_type": "stream",
     "text": [
      "6.0\n",
      "3.0\n",
      "6.0\n"
     ]
    }
   ],
   "source": [
    "x += 1\n",
    "print(x)\n",
    "x -= 3\n",
    "print(x)\n",
    "x *= 2\n",
    "print(x)\n"
   ]
  },
  {
   "cell_type": "markdown",
   "metadata": {
    "id": "sLC2PvqvOMw-"
   },
   "source": [
    "다음을 계산해보시오\n",
    "$$\\sqrt[3]{2*5} + \\sqrt{5-2}$$"
   ]
  },
  {
   "cell_type": "code",
   "execution_count": null,
   "metadata": {
    "id": "5jPxzbkGOcwC"
   },
   "outputs": [],
   "source": []
  },
  {
   "cell_type": "markdown",
   "metadata": {
    "id": "_r3kWJ1mOdvA"
   },
   "source": [
    "### Booleans\n",
    "Boolean is coder's way to represent true and false."
   ]
  },
  {
   "cell_type": "code",
   "execution_count": 6,
   "metadata": {
    "colab": {
     "base_uri": "https://localhost:8080/"
    },
    "executionInfo": {
     "elapsed": 4,
     "status": "ok",
     "timestamp": 1662089250412,
     "user": {
      "displayName": "에너지공학부/구근호",
      "userId": "09292163357270917481"
     },
     "user_tz": -540
    },
    "id": "GmGtGnvrPOVv",
    "outputId": "adea16ad-beb5-44a8-d4a1-b952b92453c2"
   },
   "outputs": [
    {
     "name": "stdout",
     "output_type": "stream",
     "text": [
      "True False\n",
      "<class 'bool'>\n",
      "True False\n"
     ]
    }
   ],
   "source": [
    "t = True\n",
    "f = False\n",
    "print(t,f)\n",
    "print(type(t))\n",
    "t,f = True, False\n",
    "print(t,f)"
   ]
  },
  {
   "cell_type": "markdown",
   "metadata": {
    "id": "scsqOjfZPVAK"
   },
   "source": [
    "Boolean은 \"and\" , \"or\", and \"not\" 등을 사용할 수 있다. (그리고, 또는, 아닌)"
   ]
  },
  {
   "cell_type": "code",
   "execution_count": 7,
   "metadata": {
    "colab": {
     "base_uri": "https://localhost:8080/"
    },
    "executionInfo": {
     "elapsed": 313,
     "status": "ok",
     "timestamp": 1662089536341,
     "user": {
      "displayName": "에너지공학부/구근호",
      "userId": "09292163357270917481"
     },
     "user_tz": -540
    },
    "id": "Npez0_2EQB64",
    "outputId": "9f9a8f47-a141-4f93-803c-f3050f5c16c0"
   },
   "outputs": [
    {
     "name": "stdout",
     "output_type": "stream",
     "text": [
      "True\n",
      "False\n",
      "True\n",
      "True\n",
      "False\n"
     ]
    }
   ],
   "source": [
    "# x and y = true if both x and y are true\n",
    "print(t and t)\n",
    "print(t and f)\n",
    "print(t or t)\n",
    "print(t or f)\n",
    "print(not t)"
   ]
  },
  {
   "cell_type": "code",
   "execution_count": null,
   "metadata": {
    "id": "WumOVOHJQb4b"
   },
   "outputs": [],
   "source": [
    "# what would be the result of following lines?\n",
    "#print(f or f)\n",
    "#print(f or t)\n",
    "#print(not f)"
   ]
  },
  {
   "cell_type": "markdown",
   "metadata": {
    "id": "WLhp7qnuQjAD"
   },
   "source": [
    "### Comparison\n",
    "두가지 변수를 여러 방식으로 비교할 수 있다."
   ]
  },
  {
   "cell_type": "code",
   "execution_count": 8,
   "metadata": {
    "colab": {
     "base_uri": "https://localhost:8080/"
    },
    "executionInfo": {
     "elapsed": 298,
     "status": "ok",
     "timestamp": 1662089677528,
     "user": {
      "displayName": "에너지공학부/구근호",
      "userId": "09292163357270917481"
     },
     "user_tz": -540
    },
    "id": "8xxhNEs6QqVu",
    "outputId": "d22e7748-5c91-43f0-d6db-dba178cb74b7"
   },
   "outputs": [
    {
     "name": "stdout",
     "output_type": "stream",
     "text": [
      "True\n",
      "False\n",
      "False\n",
      "True\n"
     ]
    }
   ],
   "source": [
    " print(1 == 1) # equality\n",
    " print(1 == 2)\n",
    " print(1 != 1) # inequality\n",
    " print(1 != 2)"
   ]
  },
  {
   "cell_type": "code",
   "execution_count": 9,
   "metadata": {
    "colab": {
     "base_uri": "https://localhost:8080/"
    },
    "executionInfo": {
     "elapsed": 305,
     "status": "ok",
     "timestamp": 1662089701623,
     "user": {
      "displayName": "에너지공학부/구근호",
      "userId": "09292163357270917481"
     },
     "user_tz": -540
    },
    "id": "mMDCVQXtQ6K4",
    "outputId": "9e6a03d0-f52e-4758-c90d-c45acf120e85"
   },
   "outputs": [
    {
     "name": "stdout",
     "output_type": "stream",
     "text": [
      "True\n",
      "False\n",
      "True\n",
      "True\n",
      "False\n"
     ]
    }
   ],
   "source": [
    "print( 1 < 2) # less than\n",
    "print( 1 > 2) # greater than\n",
    "print( 1 <= 2) # less than or equal to\n",
    "print( 1 <= 1)\n",
    "print( 1 >= 2)# greater than or equal to"
   ]
  },
  {
   "cell_type": "markdown",
   "metadata": {},
   "source": [
    "### Strings"
   ]
  },
  {
   "cell_type": "code",
   "execution_count": 12,
   "metadata": {},
   "outputs": [
    {
     "name": "stdout",
     "output_type": "stream",
     "text": [
      "hello world\n"
     ]
    }
   ],
   "source": [
    "x = 'hello'\n",
    "y = 'world'\n",
    "print(x,y)"
   ]
  },
  {
   "cell_type": "code",
   "execution_count": 14,
   "metadata": {},
   "outputs": [
    {
     "name": "stdout",
     "output_type": "stream",
     "text": [
      "5\n",
      "helloworld\n",
      "hello world\n"
     ]
    }
   ],
   "source": [
    "print(len(x)) # it means length\n",
    "print(x + y) # concatenate two string\n",
    "print(x + ' ' + y) "
   ]
  },
  {
   "cell_type": "markdown",
   "metadata": {
    "id": "wf1ut-TZSkwI"
   },
   "source": [
    "### List\n",
    "List는 다른 변수들을 직렬화 형태로 저장한다."
   ]
  },
  {
   "cell_type": "code",
   "execution_count": 15,
   "metadata": {
    "colab": {
     "base_uri": "https://localhost:8080/"
    },
    "executionInfo": {
     "elapsed": 5,
     "status": "ok",
     "timestamp": 1662090280138,
     "user": {
      "displayName": "에너지공학부/구근호",
      "userId": "09292163357270917481"
     },
     "user_tz": -540
    },
    "id": "bncKNJ09TAT2",
    "outputId": "ade34110-6a80-4c47-b924-ceafe65bda8b"
   },
   "outputs": [
    {
     "name": "stdout",
     "output_type": "stream",
     "text": [
      "[1, 2, 3, 4, 5]\n",
      "[1, 3.2, 'wow', 'okay', ['list within list']]\n"
     ]
    }
   ],
   "source": [
    "numbers = [1,2,3,4,5]\n",
    "print(numbers)\n",
    "\n",
    "list_of_whatevers = [1, 3.2, 'wow', 'okay',['list within list']]\n",
    "print(list_of_whatevers)"
   ]
  },
  {
   "cell_type": "markdown",
   "metadata": {
    "id": "1tuAKrubTQpO"
   },
   "source": [
    "There are three sequence data types: List, Tuple, Set\n",
    "\n",
    "- List: Sequence of variables. You can add or remove variables\n",
    "- Tuple: Sequence of variables. You cannot change the elements.\n",
    "- Set: Sequence of unique elements."
   ]
  },
  {
   "cell_type": "code",
   "execution_count": 16,
   "metadata": {
    "colab": {
     "base_uri": "https://localhost:8080/"
    },
    "executionInfo": {
     "elapsed": 288,
     "status": "ok",
     "timestamp": 1662090836139,
     "user": {
      "displayName": "에너지공학부/구근호",
      "userId": "09292163357270917481"
     },
     "user_tz": -540
    },
    "id": "Q9BSSFQrTiO4",
    "outputId": "72df4370-811c-489a-c801-0e329f48be20"
   },
   "outputs": [
    {
     "name": "stdout",
     "output_type": "stream",
     "text": [
      "[1, 1, 2, 3] <class 'list'>\n",
      "[1, 1, 2, 3, 5]\n",
      "[1, 1, 3, 5]\n",
      "(1, 1, 2, 3) <class 'tuple'>\n",
      "{1, 2, 3} <class 'set'>\n"
     ]
    }
   ],
   "source": [
    "okay = [1,1,2,3]\n",
    "print(okay,type(okay))\n",
    "okay.append(5)\n",
    "print(okay)\n",
    "okay.pop(2)\n",
    "print(okay)\n",
    "okay = (1,1,2,3)\n",
    "print(okay,type(okay))\n",
    "okay = {1,1,2,3}\n",
    "print(okay,type(okay))"
   ]
  },
  {
   "cell_type": "markdown",
   "metadata": {
    "id": "OSS4Oqu4T5jI"
   },
   "source": [
    "### Sequence indexing\n"
   ]
  },
  {
   "cell_type": "code",
   "execution_count": 17,
   "metadata": {
    "colab": {
     "base_uri": "https://localhost:8080/"
    },
    "executionInfo": {
     "elapsed": 288,
     "status": "ok",
     "timestamp": 1662090679525,
     "user": {
      "displayName": "에너지공학부/구근호",
      "userId": "09292163357270917481"
     },
     "user_tz": -540
    },
    "id": "o0BXVjUEUK3P",
    "outputId": "0c0a2a04-fa7d-4ac1-aae3-fc68d92f16f7"
   },
   "outputs": [
    {
     "name": "stdout",
     "output_type": "stream",
     "text": [
      "[1, 2]\n",
      "[1, 2, 3, 4, 5, 6]\n",
      "[3, 4, 5, 6]\n",
      "[5, 6]\n",
      "[3, 4]\n"
     ]
    }
   ],
   "source": [
    "LifeIsGood = [1,2,3,4,5,6]\n",
    "print(LifeIsGood[:2]) # up to second elements\n",
    "print(LifeIsGood[0:]) # python indexing starts from 0.\n",
    "print(LifeIsGood[2:])\n",
    "print(LifeIsGood[-2:]) # the last two elements to the end\n",
    "print(LifeIsGood[-4:-2]) # the fourth last element to the second last element"
   ]
  },
  {
   "cell_type": "code",
   "execution_count": 18,
   "metadata": {
    "colab": {
     "base_uri": "https://localhost:8080/"
    },
    "executionInfo": {
     "elapsed": 5,
     "status": "ok",
     "timestamp": 1662090818594,
     "user": {
      "displayName": "에너지공학부/구근호",
      "userId": "09292163357270917481"
     },
     "user_tz": -540
    },
    "id": "DaTUwtwqVQJI",
    "outputId": "ee47efd2-f7ed-4db6-fc34-9ebafef23052"
   },
   "outputs": [
    {
     "name": "stdout",
     "output_type": "stream",
     "text": [
      "[1, 2, 9, 9, 5, 6]\n"
     ]
    }
   ],
   "source": [
    "LifeIsGood[2:4] = [9,9]\n",
    "print(LifeIsGood)"
   ]
  },
  {
   "cell_type": "markdown",
   "metadata": {
    "id": "BHIpZrh7Vf9q"
   },
   "source": [
    "### Loops"
   ]
  },
  {
   "cell_type": "code",
   "execution_count": 19,
   "metadata": {
    "colab": {
     "base_uri": "https://localhost:8080/"
    },
    "executionInfo": {
     "elapsed": 304,
     "status": "ok",
     "timestamp": 1662090920094,
     "user": {
      "displayName": "에너지공학부/구근호",
      "userId": "09292163357270917481"
     },
     "user_tz": -540
    },
    "id": "OwJc9znSVmn8",
    "outputId": "8cf85ddc-d122-402c-e9aa-5da2e7c486c5"
   },
   "outputs": [
    {
     "name": "stdout",
     "output_type": "stream",
     "text": [
      "1\n",
      "2\n",
      "3\n",
      "4\n",
      "5\n",
      "6\n"
     ]
    }
   ],
   "source": [
    "LifeIsGood = [1,2,3,4,5,6]\n",
    "for i in LifeIsGood:\n",
    "  print(i)\n",
    "  "
   ]
  },
  {
   "cell_type": "code",
   "execution_count": 20,
   "metadata": {
    "colab": {
     "base_uri": "https://localhost:8080/"
    },
    "executionInfo": {
     "elapsed": 291,
     "status": "ok",
     "timestamp": 1662090952539,
     "user": {
      "displayName": "에너지공학부/구근호",
      "userId": "09292163357270917481"
     },
     "user_tz": -540
    },
    "id": "W18qgm7NVsYs",
    "outputId": "c0e19a84-578c-4296-9c77-8902a9949469"
   },
   "outputs": [
    {
     "name": "stdout",
     "output_type": "stream",
     "text": [
      "[2, 4, 6, 8, 10, 12]\n"
     ]
    }
   ],
   "source": [
    "LifeIsGood = [1,2,3,4,5,6]\n",
    "LifeDoubled = []\n",
    "for i in LifeIsGood:\n",
    "  LifeDoubled.append(i*2)\n",
    "print(LifeDoubled)"
   ]
  },
  {
   "cell_type": "code",
   "execution_count": 21,
   "metadata": {
    "colab": {
     "base_uri": "https://localhost:8080/"
    },
    "executionInfo": {
     "elapsed": 313,
     "status": "ok",
     "timestamp": 1662090995033,
     "user": {
      "displayName": "에너지공학부/구근호",
      "userId": "09292163357270917481"
     },
     "user_tz": -540
    },
    "id": "zQQUKrw_V2UW",
    "outputId": "a6378213-893c-47f5-c8f1-8cd6f3343c0f"
   },
   "outputs": [
    {
     "name": "stdout",
     "output_type": "stream",
     "text": [
      "[4, 8, 12, 16, 20, 24]\n"
     ]
    }
   ],
   "source": [
    "LifeQuadrupled = [i*2 for i in LifeDoubled]\n",
    "print(LifeQuadrupled)\n"
   ]
  },
  {
   "cell_type": "markdown",
   "metadata": {
    "id": "Tt9CrO6kWBWy"
   },
   "source": [
    "There is also a while loop which uses boolean operator to define the end condition."
   ]
  },
  {
   "cell_type": "markdown",
   "metadata": {
    "id": "o-774SnQWoJN"
   },
   "source": [
    "Make a list of number from 0 to 5, and make a new list where following is applied.\n",
    "$$f(x) = x^2 - x^\\frac{1}{\\pi}$$"
   ]
  },
  {
   "cell_type": "code",
   "execution_count": null,
   "metadata": {
    "id": "nUebtHdmXqSA"
   },
   "outputs": [],
   "source": []
  },
  {
   "cell_type": "markdown",
   "metadata": {
    "id": "_7WGXDV_WSYM"
   },
   "source": [
    "### If Else\n",
    "Comparison 값을 사용하여 여러가지 condition을 조절 할 수 있다."
   ]
  },
  {
   "cell_type": "code",
   "execution_count": 22,
   "metadata": {
    "colab": {
     "base_uri": "https://localhost:8080/"
    },
    "executionInfo": {
     "elapsed": 316,
     "status": "ok",
     "timestamp": 1662091149317,
     "user": {
      "displayName": "에너지공학부/구근호",
      "userId": "09292163357270917481"
     },
     "user_tz": -540
    },
    "id": "x21RLowCWbLC",
    "outputId": "72875eda-f68f-4c21-f9a8-ae08901d5c14"
   },
   "outputs": [
    {
     "name": "stdout",
     "output_type": "stream",
     "text": [
      "wow is not 3 or 6.\n"
     ]
    }
   ],
   "source": [
    "wow = 5\n",
    "if wow == 3:\n",
    "  print('wow is 3.')\n",
    "elif wow == 6:\n",
    "  print('wow is 6.')\n",
    "else:\n",
    "  print('wow is not 3 or 6.')"
   ]
  },
  {
   "cell_type": "markdown",
   "metadata": {
    "id": "1C3xla4nhVPh"
   },
   "source": [
    "## Pytorch\n",
    "### 기초\n",
    "Pytorch는 백터 및 매트릭스 기반 연산에 최적화된 파이썬 코트 페키지이다. 기초 파이썬 코드는 복잡한 연산을 할 수 없기에 다른 패키지가 개발이 되었다.\n"
   ]
  },
  {
   "cell_type": "code",
   "execution_count": 45,
   "metadata": {
    "executionInfo": {
     "elapsed": 346,
     "status": "ok",
     "timestamp": 1662094145942,
     "user": {
      "displayName": "에너지공학부/구근호",
      "userId": "09292163357270917481"
     },
     "user_tz": -540
    },
    "id": "CHCC11x1hu40"
   },
   "outputs": [],
   "source": [
    "import torch"
   ]
  },
  {
   "cell_type": "code",
   "execution_count": 46,
   "metadata": {
    "colab": {
     "base_uri": "https://localhost:8080/"
    },
    "executionInfo": {
     "elapsed": 3,
     "status": "ok",
     "timestamp": 1662094147306,
     "user": {
      "displayName": "에너지공학부/구근호",
      "userId": "09292163357270917481"
     },
     "user_tz": -540
    },
    "id": "05t6MsKHh8Ie",
    "outputId": "6c750f93-1c7a-4630-801f-e11b5ea04c25"
   },
   "outputs": [
    {
     "name": "stdout",
     "output_type": "stream",
     "text": [
      "<class 'torch.Tensor'> tensor([1., 2., 3., 4.]) tensor([3., 4.])\n"
     ]
    }
   ],
   "source": [
    "x = torch.Tensor([1,2,3,4])\n",
    "print(type(x), x, x[2:])"
   ]
  },
  {
   "cell_type": "code",
   "execution_count": 47,
   "metadata": {
    "colab": {
     "base_uri": "https://localhost:8080/"
    },
    "executionInfo": {
     "elapsed": 289,
     "status": "ok",
     "timestamp": 1662094173960,
     "user": {
      "displayName": "에너지공학부/구근호",
      "userId": "09292163357270917481"
     },
     "user_tz": -540
    },
    "id": "mNxW5Z_DiC2Y",
    "outputId": "38f6e6b5-81f9-494a-dce5-f4e31f43b661"
   },
   "outputs": [
    {
     "name": "stdout",
     "output_type": "stream",
     "text": [
      "tensor([[1., 2., 3.],\n",
      "        [4., 5., 6.]]) torch.Size([2, 3])\n"
     ]
    }
   ],
   "source": [
    "b = torch.Tensor([[1,2,3],[4,5,6]]) # this is a 2 dimensional matrix. \n",
    "print(b,b.shape)"
   ]
  },
  {
   "cell_type": "code",
   "execution_count": 48,
   "metadata": {
    "colab": {
     "base_uri": "https://localhost:8080/"
    },
    "executionInfo": {
     "elapsed": 292,
     "status": "ok",
     "timestamp": 1662094208562,
     "user": {
      "displayName": "에너지공학부/구근호",
      "userId": "09292163357270917481"
     },
     "user_tz": -540
    },
    "id": "viWvQGWuiKu2",
    "outputId": "319d5bd4-14dd-431c-cfab-f2aa2887dbb8"
   },
   "outputs": [
    {
     "name": "stdout",
     "output_type": "stream",
     "text": [
      "tensor(1.) tensor(2.) tensor(6.)\n"
     ]
    }
   ],
   "source": [
    "print(b[0,0],b[0,1],b[1,2])"
   ]
  },
  {
   "cell_type": "markdown",
   "metadata": {},
   "source": [
    "### 특정 매트릭스 만드는법"
   ]
  },
  {
   "cell_type": "code",
   "execution_count": 51,
   "metadata": {},
   "outputs": [
    {
     "name": "stdout",
     "output_type": "stream",
     "text": [
      "tensor([[0., 0.],\n",
      "        [0., 0.]])\n",
      "tensor([[1., 1.]])\n",
      "tensor([[1., 0.],\n",
      "        [0., 1.]])\n",
      "tensor([[0.9322, 0.3113],\n",
      "        [0.9389, 0.6164]])\n"
     ]
    }
   ],
   "source": [
    "a = torch.zeros((2,2))  # Create an array of all zeros\n",
    "print(a)\n",
    "b = torch.ones((1,2))   # Create an array of all ones\n",
    "print(b)\n",
    "d = torch.eye(2)        # Create a 2x2 identity matrix\n",
    "print(d)\n",
    "e = torch.rand((2,2)) # Create an array filled with random values\n",
    "print(e)"
   ]
  },
  {
   "cell_type": "markdown",
   "metadata": {
    "id": "WLkzErOOie6V"
   },
   "source": [
    "### indexing\n",
    "인덱싱은 기존 List와 비슷하게 작동하나, torch를 통해서 여러 dimension으로 할 수 있다."
   ]
  },
  {
   "cell_type": "code",
   "execution_count": 52,
   "metadata": {
    "colab": {
     "base_uri": "https://localhost:8080/"
    },
    "executionInfo": {
     "elapsed": 312,
     "status": "ok",
     "timestamp": 1662094329568,
     "user": {
      "displayName": "에너지공학부/구근호",
      "userId": "09292163357270917481"
     },
     "user_tz": -540
    },
    "id": "_fQ4ZphQikpN",
    "outputId": "3d678203-88a2-458d-9736-df815a00963b"
   },
   "outputs": [
    {
     "name": "stdout",
     "output_type": "stream",
     "text": [
      "tensor([[0.8130, 0.0438, 0.3555, 0.0474, 0.8264],\n",
      "        [0.1502, 0.3406, 0.5929, 0.3385, 0.4613],\n",
      "        [0.9823, 0.4654, 0.2431, 0.5992, 0.1589],\n",
      "        [0.9215, 0.6536, 0.0315, 0.1756, 0.5840],\n",
      "        [0.9889, 0.2515, 0.9340, 0.3794, 0.4791]])\n",
      "tensor([0.8130, 0.0438, 0.3555, 0.0474, 0.8264])\n",
      "tensor([0.8130, 0.1502, 0.9823, 0.9215, 0.9889])\n"
     ]
    }
   ],
   "source": [
    "a = torch.rand((5,5))\n",
    "print(a)\n",
    "print(a[0,:])\n",
    "print(a[:,0])"
   ]
  },
  {
   "cell_type": "code",
   "execution_count": 53,
   "metadata": {
    "colab": {
     "base_uri": "https://localhost:8080/"
    },
    "executionInfo": {
     "elapsed": 298,
     "status": "ok",
     "timestamp": 1662094419986,
     "user": {
      "displayName": "에너지공학부/구근호",
      "userId": "09292163357270917481"
     },
     "user_tz": -540
    },
    "id": "SdxAY1kejAIy",
    "outputId": "7a996c21-2f4c-4cf0-fe95-968f0d1b982a"
   },
   "outputs": [
    {
     "name": "stdout",
     "output_type": "stream",
     "text": [
      "tensor([[1.0000, 0.0438, 0.3555, 0.0474, 0.8264],\n",
      "        [1.0000, 0.3406, 0.5929, 0.3385, 0.4613],\n",
      "        [1.0000, 0.4654, 0.2431, 0.5992, 0.1589],\n",
      "        [1.0000, 0.6536, 0.0315, 0.1756, 0.5840],\n",
      "        [1.0000, 0.2515, 0.9340, 0.3794, 0.4791]])\n"
     ]
    }
   ],
   "source": [
    "a[:,0] = 1 # broad casting\n",
    "print(a)"
   ]
  },
  {
   "cell_type": "code",
   "execution_count": 54,
   "metadata": {
    "colab": {
     "base_uri": "https://localhost:8080/"
    },
    "executionInfo": {
     "elapsed": 314,
     "status": "ok",
     "timestamp": 1662094370053,
     "user": {
      "displayName": "에너지공학부/구근호",
      "userId": "09292163357270917481"
     },
     "user_tz": -540
    },
    "id": "30SyiCB9i06N",
    "outputId": "7bddb9e1-586b-4b61-871d-6abe3fdb763e"
   },
   "outputs": [
    {
     "name": "stdout",
     "output_type": "stream",
     "text": [
      "tensor([[ True, False, False, False,  True],\n",
      "        [ True, False,  True, False, False],\n",
      "        [ True, False, False,  True, False],\n",
      "        [ True,  True, False, False,  True],\n",
      "        [ True, False,  True, False, False]])\n"
     ]
    }
   ],
   "source": [
    "print(a>0.5)"
   ]
  },
  {
   "cell_type": "code",
   "execution_count": 55,
   "metadata": {
    "colab": {
     "base_uri": "https://localhost:8080/"
    },
    "executionInfo": {
     "elapsed": 4,
     "status": "ok",
     "timestamp": 1662094392850,
     "user": {
      "displayName": "에너지공학부/구근호",
      "userId": "09292163357270917481"
     },
     "user_tz": -540
    },
    "id": "nzELFLzii5QY",
    "outputId": "68956d35-1316-494b-c033-efbcc8680298"
   },
   "outputs": [
    {
     "name": "stdout",
     "output_type": "stream",
     "text": [
      "tensor([1.0000, 0.8264, 1.0000, 0.5929, 1.0000, 0.5992, 1.0000, 0.6536, 0.5840,\n",
      "        1.0000, 0.9340])\n"
     ]
    }
   ],
   "source": [
    "print(a[a>0.5]) # boolean indexing"
   ]
  },
  {
   "cell_type": "markdown",
   "metadata": {
    "id": "z5iz3XzwjHC2"
   },
   "source": [
    "### Array math\n",
    "여러가지 매트릭스 연산을 할 수 있다."
   ]
  },
  {
   "cell_type": "code",
   "execution_count": 58,
   "metadata": {
    "colab": {
     "base_uri": "https://localhost:8080/"
    },
    "executionInfo": {
     "elapsed": 295,
     "status": "ok",
     "timestamp": 1662094572270,
     "user": {
      "displayName": "에너지공학부/구근호",
      "userId": "09292163357270917481"
     },
     "user_tz": -540
    },
    "id": "tAvaSW-hjVv-",
    "outputId": "a6f390bc-1613-4e81-f531-f17e63888e7e"
   },
   "outputs": [
    {
     "name": "stdout",
     "output_type": "stream",
     "text": [
      "tensor([[0.8994, 0.2321, 0.4645],\n",
      "        [0.0359, 0.9775, 0.2293],\n",
      "        [0.7910, 0.8605, 0.9709]]) tensor([[0.0513, 0.7599, 0.3415],\n",
      "        [0.0511, 0.6962, 0.8911],\n",
      "        [0.3852, 0.8603, 0.9996]])\n",
      "tensor([[0.9507, 0.9920, 0.8060],\n",
      "        [0.0869, 1.6738, 1.1205],\n",
      "        [1.1762, 1.7208, 1.9705]])\n",
      "tensor([[0.2369, 1.2446, 0.9783],\n",
      "        [0.1401, 0.9051, 1.1126],\n",
      "        [0.4585, 2.0354, 2.0075]])\n",
      "tensor(3.2834)\n",
      "tensor([[0.0461, 0.1763, 0.1586],\n",
      "        [0.0018, 0.6806, 0.2044],\n",
      "        [0.3047, 0.7403, 0.9705]])\n"
     ]
    }
   ],
   "source": [
    "a = torch.rand((3,3))\n",
    "b = torch.rand((3,3))\n",
    "print(a,b)\n",
    "print(a+b)\n",
    "print(torch.matmul(a,b))   # a x b\n",
    "print(torch.tensordot(a,b))      # a . b\n",
    "print(a*b)              # element wise multiplication"
   ]
  },
  {
   "cell_type": "code",
   "execution_count": 59,
   "metadata": {
    "colab": {
     "base_uri": "https://localhost:8080/"
    },
    "executionInfo": {
     "elapsed": 2,
     "status": "ok",
     "timestamp": 1662094765751,
     "user": {
      "displayName": "에너지공학부/구근호",
      "userId": "09292163357270917481"
     },
     "user_tz": -540
    },
    "id": "aYpmD2XTkQfs",
    "outputId": "8a0665eb-2318-41ef-ee4f-50b0f14ac361"
   },
   "outputs": [
    {
     "name": "stdout",
     "output_type": "stream",
     "text": [
      "tensor([[0.8994, 0.2321, 0.4645],\n",
      "        [0.0359, 0.9775, 0.2293],\n",
      "        [0.7910, 0.8605, 0.9709]])\n",
      "tensor(5.4610)\n",
      "tensor([1.7262, 2.0701, 1.6647])\n",
      "tensor([1.5959, 1.2427, 2.6224])\n"
     ]
    }
   ],
   "source": [
    "print(a)\n",
    "print(torch.sum(a))\n",
    "print(torch.sum(a,axis=0))\n",
    "print(torch.sum(a,axis=1))"
   ]
  },
  {
   "cell_type": "markdown",
   "metadata": {
    "id": "SCYxgtmvlW3L"
   },
   "source": [
    "## Matplotlib\n",
    "그림을 그릴 수 있다."
   ]
  },
  {
   "cell_type": "code",
   "execution_count": 63,
   "metadata": {
    "colab": {
     "base_uri": "https://localhost:8080/",
     "height": 265
    },
    "executionInfo": {
     "elapsed": 872,
     "status": "ok",
     "timestamp": 1662095054815,
     "user": {
      "displayName": "에너지공학부/구근호",
      "userId": "09292163357270917481"
     },
     "user_tz": -540
    },
    "id": "tc6jeqE6la64",
    "outputId": "f284359d-6560-4e71-b552-34b41523a29c"
   },
   "outputs": [
    {
     "data": {
      "image/png": "[encoded data removed]",
      "text/plain": [
       "<Figure size 432x288 with 1 Axes>"
      ]
     },
     "metadata": {
      "needs_background": "light"
     },
     "output_type": "display_data"
    }
   ],
   "source": [
    "import matplotlib.pyplot as plt\n",
    "x = torch.arange(0,3*torch.pi,0.1)\n",
    "y = torch.sin(x)\n",
    "\n",
    "plt.plot(x, y)\n",
    "plt.show()"
   ]
  },
  {
   "cell_type": "code",
   "execution_count": 64,
   "metadata": {
    "colab": {
     "base_uri": "https://localhost:8080/",
     "height": 295
    },
    "executionInfo": {
     "elapsed": 780,
     "status": "ok",
     "timestamp": 1662095075273,
     "user": {
      "displayName": "에너지공학부/구근호",
      "userId": "09292163357270917481"
     },
     "user_tz": -540
    },
    "id": "T7uKQkxzlfnR",
    "outputId": "aca32f88-e977-41e3-8bd3-abdb5b64d039"
   },
   "outputs": [
    {
     "data": {
      "image/png": "[encoded data removed]",
      "text/plain": [
       "<Figure size 432x288 with 1 Axes>"
      ]
     },
     "metadata": {
      "needs_background": "light"
     },
     "output_type": "display_data"
    }
   ],
   "source": [
    "y_sin = torch.sin(x)\n",
    "y_cos = torch.cos(x)\n",
    "\n",
    "plt.plot(x, y_sin)\n",
    "plt.plot(x, y_cos)\n",
    "\n",
    "plt.xlabel('x')\n",
    "plt.ylabel('f(x)')\n",
    "plt.title('Sine and Cosine')\n",
    "plt.legend(['Sine', 'Cosine'])\n",
    "plt.axis('tight')\n",
    "plt.show()"
   ]
  },
  {
   "cell_type": "code",
   "execution_count": 65,
   "metadata": {
    "colab": {
     "base_uri": "https://localhost:8080/",
     "height": 281
    },
    "executionInfo": {
     "elapsed": 346,
     "status": "ok",
     "timestamp": 1662095125398,
     "user": {
      "displayName": "에너지공학부/구근호",
      "userId": "09292163357270917481"
     },
     "user_tz": -540
    },
    "id": "B3XbDxPglh-g",
    "outputId": "8deb747a-ed35-4fe5-841b-c1e77835a6ee"
   },
   "outputs": [
    {
     "data": {
      "image/png": "[encoded data removed]",
      "text/plain": [
       "<Figure size 432x288 with 2 Axes>"
      ]
     },
     "metadata": {
      "needs_background": "light"
     },
     "output_type": "display_data"
    }
   ],
   "source": [
    "x = torch.arange(0, 3 * torch.pi, 0.1)\n",
    "y_sin = torch.exp(x)\n",
    "y_cos = torch.cos(x)\n",
    "\n",
    "# Set up a subplot grid that has height 2 and width 1,\n",
    "# and set the first such subplot as active.\n",
    "plt.subplot(2, 1, 1)\n",
    "\n",
    "plt.plot(x, y_sin)\n",
    "plt.axis('tight')\n",
    "plt.title('exponential')\n",
    "\n",
    "# Set the second subplot as active, and make the second plot.\n",
    "plt.subplot(2, 1, 2)\n",
    "plt.plot(x, y_cos)\n",
    "plt.axis('tight')\n",
    "plt.title('Cosine')\n",
    "\n",
    "plt.show()"
   ]
  },
  {
   "cell_type": "code",
   "execution_count": null,
   "metadata": {},
   "outputs": [],
   "source": []
  }
 ],
 "metadata": {
  "colab": {
   "authorship_tag": "ABX9TyPRX/AenfGdvHhQFHFCWs/V",
   "provenance": []
  },
  "kernelspec": {
   "display_name": "Python 3",
   "language": "python",
   "name": "python3"
  },
  "language_info": {
   "codemirror_mode": {
    "name": "ipython",
    "version": 3
   },
   "file_extension": ".py",
   "mimetype": "text/x-python",
   "name": "python",
   "nbconvert_exporter": "python",
   "pygments_lexer": "ipython3",
   "version": "3.8.8"
  }
 },
 "nbformat": 4,
 "nbformat_minor": 1
}
