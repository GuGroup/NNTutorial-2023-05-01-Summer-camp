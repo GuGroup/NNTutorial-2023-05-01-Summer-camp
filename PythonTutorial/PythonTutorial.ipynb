{
 "cells": [
  {
   "cell_type": "markdown",
   "metadata": {
    "id": "yqSfOk5qIvcz"
   },
   "source": [
    "# 파이썬, 파이토치, 맷플랏립 튜토리얼\n",
    "\n",
    "파이썬은 많은 과학자들에 사용되고 있는 언어이다. 대부분의 기계학습 모델들은 Tensorflow와 pytorch등의 패키지를 사용하여 구현되고있다. 이 노트북은 python, pytorch, matplotlib의 기초를 설명한다.\n",
    "\n",
    "## 1. 파이썬 기초\n",
    "### Integer and float\n",
    "\n",
    "Integer = number without decimals\n",
    "\n",
    "Float = number with decimals"
   ]
  },
  {
   "cell_type": "code",
   "execution_count": null,
   "metadata": {
    "colab": {
     "base_uri": "https://localhost:8080/"
    },
    "executionInfo": {
     "elapsed": 294,
     "status": "ok",
     "timestamp": 1662088924042,
     "user": {
      "displayName": "에너지공학부/구근호",
      "userId": "09292163357270917481"
     },
     "user_tz": -540
    },
    "id": "TOi9zMqeKuAw",
    "outputId": "af4933c6-322d-4fb4-d18a-039bb1ec7df2"
   },
   "outputs": [],
   "source": [
    "x = 5\n",
    "print(x)\n",
    "print(type(x))\n",
    "\n",
    "x = 5.5\n",
    "print(x)\n",
    "print(type(x))\n",
    "\n",
    "x = 5.\n",
    "print(x)\n",
    "print(type(x))"
   ]
  },
  {
   "cell_type": "markdown",
   "metadata": {
    "id": "quqvPGTBK2BQ"
   },
   "source": [
    "여러가지 기초 연산"
   ]
  },
  {
   "cell_type": "code",
   "execution_count": null,
   "metadata": {
    "colab": {
     "base_uri": "https://localhost:8080/"
    },
    "executionInfo": {
     "elapsed": 303,
     "status": "ok",
     "timestamp": 1662088328952,
     "user": {
      "displayName": "에너지공학부/구근호",
      "userId": "09292163357270917481"
     },
     "user_tz": -540
    },
    "id": "AuMT-YTbLB_a",
    "outputId": "88725db1-3b94-44ef-9b30-3ff8b9153267"
   },
   "outputs": [],
   "source": [
    "print(x + 5)  # addition\n",
    "print(x - 3)  # subtraction\n",
    "print(x * 9)  # multiplicatoin\n",
    "print(x / 2)  # division\n",
    "print(x % 2)  # modulus\n",
    "print(x // 2) # floor division\n",
    "print(x ** 3) # exponent"
   ]
  },
  {
   "cell_type": "markdown",
   "metadata": {
    "id": "sLC2PvqvOMw-"
   },
   "source": [
    "# Exercise\n",
    "다음을 계산해보시오\n",
    "$$\\sqrt[3]{2*5} + \\sqrt{5-2}$$"
   ]
  },
  {
   "cell_type": "code",
   "execution_count": null,
   "metadata": {
    "id": "5jPxzbkGOcwC"
   },
   "outputs": [],
   "source": []
  },
  {
   "cell_type": "markdown",
   "metadata": {
    "id": "_r3kWJ1mOdvA"
   },
   "source": [
    "### Booleans\n",
    "Boolean is coder's way to represent true and false."
   ]
  },
  {
   "cell_type": "code",
   "execution_count": null,
   "metadata": {
    "colab": {
     "base_uri": "https://localhost:8080/"
    },
    "executionInfo": {
     "elapsed": 4,
     "status": "ok",
     "timestamp": 1662089250412,
     "user": {
      "displayName": "에너지공학부/구근호",
      "userId": "09292163357270917481"
     },
     "user_tz": -540
    },
    "id": "GmGtGnvrPOVv",
    "outputId": "adea16ad-beb5-44a8-d4a1-b952b92453c2"
   },
   "outputs": [],
   "source": [
    "t = True\n",
    "f = False\n",
    "print(t,f)\n",
    "print(type(t))\n",
    "t,f = True, False\n",
    "print(t,f)"
   ]
  },
  {
   "cell_type": "markdown",
   "metadata": {
    "id": "scsqOjfZPVAK"
   },
   "source": [
    "Boolean은 \"and\" , \"or\", and \"not\" 등을 사용할 수 있다. (그리고, 또는, 아닌)"
   ]
  },
  {
   "cell_type": "code",
   "execution_count": null,
   "metadata": {
    "colab": {
     "base_uri": "https://localhost:8080/"
    },
    "executionInfo": {
     "elapsed": 313,
     "status": "ok",
     "timestamp": 1662089536341,
     "user": {
      "displayName": "에너지공학부/구근호",
      "userId": "09292163357270917481"
     },
     "user_tz": -540
    },
    "id": "Npez0_2EQB64",
    "outputId": "9f9a8f47-a141-4f93-803c-f3050f5c16c0"
   },
   "outputs": [],
   "source": [
    "# x and y = true if both x and y are true\n",
    "print(t and t)\n",
    "print(t and f)\n",
    "print(t or t)\n",
    "print(t or f)\n",
    "print(not t)"
   ]
  },
  {
   "cell_type": "markdown",
   "metadata": {
    "id": "WumOVOHJQb4b"
   },
   "source": [
    "# Exercise\n",
    "아래는 코드는 어떤 output이 나올까요?"
   ]
  },
  {
   "cell_type": "code",
   "execution_count": null,
   "metadata": {},
   "outputs": [],
   "source": [
    "print(f or f)\n",
    "print(f or t)\n",
    "print(not f)"
   ]
  },
  {
   "cell_type": "markdown",
   "metadata": {
    "id": "WLhp7qnuQjAD"
   },
   "source": [
    "### Comparison\n",
    "두가지 변수를 여러 방식으로 비교할 수 있다."
   ]
  },
  {
   "cell_type": "code",
   "execution_count": null,
   "metadata": {
    "colab": {
     "base_uri": "https://localhost:8080/"
    },
    "executionInfo": {
     "elapsed": 298,
     "status": "ok",
     "timestamp": 1662089677528,
     "user": {
      "displayName": "에너지공학부/구근호",
      "userId": "09292163357270917481"
     },
     "user_tz": -540
    },
    "id": "8xxhNEs6QqVu",
    "outputId": "d22e7748-5c91-43f0-d6db-dba178cb74b7"
   },
   "outputs": [],
   "source": [
    " print(1 == 1) # equality\n",
    " print(1 == 2)\n",
    " print(1 != 1) # inequality\n",
    " print(1 != 2)"
   ]
  },
  {
   "cell_type": "code",
   "execution_count": null,
   "metadata": {
    "colab": {
     "base_uri": "https://localhost:8080/"
    },
    "executionInfo": {
     "elapsed": 305,
     "status": "ok",
     "timestamp": 1662089701623,
     "user": {
      "displayName": "에너지공학부/구근호",
      "userId": "09292163357270917481"
     },
     "user_tz": -540
    },
    "id": "mMDCVQXtQ6K4",
    "outputId": "9e6a03d0-f52e-4758-c90d-c45acf120e85"
   },
   "outputs": [],
   "source": [
    "print( 1 < 2) # less than\n",
    "print( 1 > 2) # greater than\n",
    "print( 1 <= 2) # less than or equal to\n",
    "print( 1 <= 1)\n",
    "print( 1 >= 2)# greater than or equal to"
   ]
  },
  {
   "cell_type": "markdown",
   "metadata": {},
   "source": [
    "### Strings"
   ]
  },
  {
   "cell_type": "code",
   "execution_count": null,
   "metadata": {},
   "outputs": [],
   "source": [
    "x = 'hello'\n",
    "y = 'world'\n",
    "print(x,y)"
   ]
  },
  {
   "cell_type": "code",
   "execution_count": null,
   "metadata": {},
   "outputs": [],
   "source": [
    "print(len(x)) # it means length\n",
    "print(x + y) # concatenate two string\n",
    "print(x + ' ' + y) "
   ]
  },
  {
   "cell_type": "markdown",
   "metadata": {
    "id": "wf1ut-TZSkwI"
   },
   "source": [
    "### List\n",
    "List는 다른 변수들을 직렬화 형태로 저장한다."
   ]
  },
  {
   "cell_type": "code",
   "execution_count": null,
   "metadata": {
    "colab": {
     "base_uri": "https://localhost:8080/"
    },
    "executionInfo": {
     "elapsed": 5,
     "status": "ok",
     "timestamp": 1662090280138,
     "user": {
      "displayName": "에너지공학부/구근호",
      "userId": "09292163357270917481"
     },
     "user_tz": -540
    },
    "id": "bncKNJ09TAT2",
    "outputId": "ade34110-6a80-4c47-b924-ceafe65bda8b"
   },
   "outputs": [],
   "source": [
    "numbers = [1,2,3,4,5]\n",
    "print(numbers)\n",
    "\n",
    "list_of_whatevers = [1, 3.2, 'wow', 'okay',['list within list']]\n",
    "print(list_of_whatevers)"
   ]
  },
  {
   "cell_type": "code",
   "execution_count": null,
   "metadata": {
    "colab": {
     "base_uri": "https://localhost:8080/"
    },
    "executionInfo": {
     "elapsed": 288,
     "status": "ok",
     "timestamp": 1662090836139,
     "user": {
      "displayName": "에너지공학부/구근호",
      "userId": "09292163357270917481"
     },
     "user_tz": -540
    },
    "id": "Q9BSSFQrTiO4",
    "outputId": "72df4370-811c-489a-c801-0e329f48be20"
   },
   "outputs": [],
   "source": [
    "okay = [1,1,2,3]\n",
    "print(okay,type(okay))\n",
    "okay.append(5)\n",
    "print(okay)\n",
    "okay.pop(2)\n",
    "print(okay)\n",
    "del okay[2]\n",
    "print(okay)"
   ]
  },
  {
   "cell_type": "markdown",
   "metadata": {
    "id": "OSS4Oqu4T5jI"
   },
   "source": [
    "### Sequence indexing\n"
   ]
  },
  {
   "cell_type": "code",
   "execution_count": null,
   "metadata": {
    "colab": {
     "base_uri": "https://localhost:8080/"
    },
    "executionInfo": {
     "elapsed": 288,
     "status": "ok",
     "timestamp": 1662090679525,
     "user": {
      "displayName": "에너지공학부/구근호",
      "userId": "09292163357270917481"
     },
     "user_tz": -540
    },
    "id": "o0BXVjUEUK3P",
    "outputId": "0c0a2a04-fa7d-4ac1-aae3-fc68d92f16f7"
   },
   "outputs": [],
   "source": [
    "LifeIsGood = [1,2,3,4,5,6]\n",
    "print(LifeIsGood[:2]) # up to second elements\n",
    "print(LifeIsGood[0:]) # python indexing starts from 0.\n",
    "print(LifeIsGood[2:])\n",
    "print(LifeIsGood[-2:]) # the last two elements to the end\n",
    "print(LifeIsGood[-4:-2]) # the fourth last element to the second last element"
   ]
  },
  {
   "cell_type": "code",
   "execution_count": null,
   "metadata": {
    "colab": {
     "base_uri": "https://localhost:8080/"
    },
    "executionInfo": {
     "elapsed": 5,
     "status": "ok",
     "timestamp": 1662090818594,
     "user": {
      "displayName": "에너지공학부/구근호",
      "userId": "09292163357270917481"
     },
     "user_tz": -540
    },
    "id": "DaTUwtwqVQJI",
    "outputId": "ee47efd2-f7ed-4db6-fc34-9ebafef23052"
   },
   "outputs": [],
   "source": [
    "LifeIsGood[2:4] = [9,9]\n",
    "print(LifeIsGood)"
   ]
  },
  {
   "cell_type": "markdown",
   "metadata": {
    "id": "BHIpZrh7Vf9q"
   },
   "source": [
    "### Loops"
   ]
  },
  {
   "cell_type": "code",
   "execution_count": null,
   "metadata": {
    "colab": {
     "base_uri": "https://localhost:8080/"
    },
    "executionInfo": {
     "elapsed": 304,
     "status": "ok",
     "timestamp": 1662090920094,
     "user": {
      "displayName": "에너지공학부/구근호",
      "userId": "09292163357270917481"
     },
     "user_tz": -540
    },
    "id": "OwJc9znSVmn8",
    "outputId": "8cf85ddc-d122-402c-e9aa-5da2e7c486c5"
   },
   "outputs": [],
   "source": [
    "LifeIsGood = [1,2,3,4,5,6]\n",
    "for i in LifeIsGood:\n",
    "  print(i)\n",
    "  "
   ]
  },
  {
   "cell_type": "code",
   "execution_count": null,
   "metadata": {
    "colab": {
     "base_uri": "https://localhost:8080/"
    },
    "executionInfo": {
     "elapsed": 291,
     "status": "ok",
     "timestamp": 1662090952539,
     "user": {
      "displayName": "에너지공학부/구근호",
      "userId": "09292163357270917481"
     },
     "user_tz": -540
    },
    "id": "W18qgm7NVsYs",
    "outputId": "c0e19a84-578c-4296-9c77-8902a9949469"
   },
   "outputs": [],
   "source": [
    "LifeIsGood = [1,2,3,4,5,6]\n",
    "LifeDoubled = []\n",
    "for i in LifeIsGood:\n",
    "  LifeDoubled.append(i*2)\n",
    "print(LifeDoubled)"
   ]
  },
  {
   "cell_type": "markdown",
   "metadata": {
    "id": "o-774SnQWoJN"
   },
   "source": [
    "# Exercise\n",
    "0에서 5사이의 List를 만들고 (0,...,5), 아래 식이 적영된 새로운 식을 만드시오.\n",
    "\n",
    "$$f(x) = x^2 - x^\\frac{1}{\\pi}$$"
   ]
  },
  {
   "cell_type": "code",
   "execution_count": null,
   "metadata": {
    "id": "nUebtHdmXqSA"
   },
   "outputs": [],
   "source": []
  },
  {
   "cell_type": "markdown",
   "metadata": {
    "id": "_7WGXDV_WSYM"
   },
   "source": [
    "### If Else\n",
    "Comparison 값을 사용하여 여러가지 condition을 조절 할 수 있다."
   ]
  },
  {
   "cell_type": "code",
   "execution_count": null,
   "metadata": {
    "colab": {
     "base_uri": "https://localhost:8080/"
    },
    "executionInfo": {
     "elapsed": 316,
     "status": "ok",
     "timestamp": 1662091149317,
     "user": {
      "displayName": "에너지공학부/구근호",
      "userId": "09292163357270917481"
     },
     "user_tz": -540
    },
    "id": "x21RLowCWbLC",
    "outputId": "72875eda-f68f-4c21-f9a8-ae08901d5c14"
   },
   "outputs": [],
   "source": [
    "wow = 5\n",
    "if wow == 3:\n",
    "  print('wow is 3.')\n",
    "elif wow == 6:\n",
    "  print('wow is 6.')\n",
    "else:\n",
    "  print('wow is not 3 or 6.')"
   ]
  },
  {
   "cell_type": "markdown",
   "metadata": {},
   "source": [
    "# Exercise\n",
    "ILike 이라는 변수를 만들고 ILike 이 dog 일 경우 Woof 를 print하고 cat일 경우 Meow를 print 하고 그외에는 cawcaw를 print하게 해보시오."
   ]
  },
  {
   "cell_type": "markdown",
   "metadata": {
    "id": "1C3xla4nhVPh"
   },
   "source": [
    "## Numpy\n",
    "### 기초\n",
    "Numpy는 백터 및 매트릭스 기반 연산이 가능한 파이썬 코트 페키지이다. 기초 파이썬 코드는 복잡한 연산을 할 수 없기에 다른 패키지가 개발이 되었다.\n"
   ]
  },
  {
   "cell_type": "code",
   "execution_count": null,
   "metadata": {
    "executionInfo": {
     "elapsed": 346,
     "status": "ok",
     "timestamp": 1662094145942,
     "user": {
      "displayName": "에너지공학부/구근호",
      "userId": "09292163357270917481"
     },
     "user_tz": -540
    },
    "id": "CHCC11x1hu40"
   },
   "outputs": [],
   "source": [
    "import numpy as np"
   ]
  },
  {
   "cell_type": "code",
   "execution_count": null,
   "metadata": {
    "colab": {
     "base_uri": "https://localhost:8080/"
    },
    "executionInfo": {
     "elapsed": 3,
     "status": "ok",
     "timestamp": 1662094147306,
     "user": {
      "displayName": "에너지공학부/구근호",
      "userId": "09292163357270917481"
     },
     "user_tz": -540
    },
    "id": "05t6MsKHh8Ie",
    "outputId": "6c750f93-1c7a-4630-801f-e11b5ea04c25"
   },
   "outputs": [],
   "source": [
    "x = np.array([1,2,3,4])\n",
    "print(type(x))\n",
    "print(x, x[2:])"
   ]
  },
  {
   "cell_type": "code",
   "execution_count": null,
   "metadata": {
    "colab": {
     "base_uri": "https://localhost:8080/"
    },
    "executionInfo": {
     "elapsed": 289,
     "status": "ok",
     "timestamp": 1662094173960,
     "user": {
      "displayName": "에너지공학부/구근호",
      "userId": "09292163357270917481"
     },
     "user_tz": -540
    },
    "id": "mNxW5Z_DiC2Y",
    "outputId": "38f6e6b5-81f9-494a-dce5-f4e31f43b661"
   },
   "outputs": [],
   "source": [
    "b = np.array([[1,2,3],[4,5,6]]) # this is a 2 dimensional matrix. \n",
    "print(b,b.shape)"
   ]
  },
  {
   "cell_type": "code",
   "execution_count": null,
   "metadata": {
    "colab": {
     "base_uri": "https://localhost:8080/"
    },
    "executionInfo": {
     "elapsed": 292,
     "status": "ok",
     "timestamp": 1662094208562,
     "user": {
      "displayName": "에너지공학부/구근호",
      "userId": "09292163357270917481"
     },
     "user_tz": -540
    },
    "id": "viWvQGWuiKu2",
    "outputId": "319d5bd4-14dd-431c-cfab-f2aa2887dbb8"
   },
   "outputs": [],
   "source": [
    "print(b[0,0],b[0,1],b[1,2])"
   ]
  },
  {
   "cell_type": "markdown",
   "metadata": {},
   "source": [
    "### 특정 매트릭스 만드는법"
   ]
  },
  {
   "cell_type": "code",
   "execution_count": null,
   "metadata": {},
   "outputs": [],
   "source": [
    "a = np.zeros((2,2))  # Create an array of all zeros\n",
    "print(a)\n",
    "b = np.ones((1,2))   # Create an array of all ones\n",
    "print(b)\n",
    "d = np.eye(2)        # Create a 2x2 identity matrix\n",
    "print(d)\n",
    "e = np.random.random((2,2)) # Create an array filled with random values\n",
    "print(e)"
   ]
  },
  {
   "cell_type": "markdown",
   "metadata": {
    "id": "WLkzErOOie6V"
   },
   "source": [
    "### indexing\n",
    "인덱싱은 기존 List와 비슷하게 작동하나, torch를 통해서 여러 dimension으로 할 수 있다."
   ]
  },
  {
   "cell_type": "code",
   "execution_count": null,
   "metadata": {
    "colab": {
     "base_uri": "https://localhost:8080/"
    },
    "executionInfo": {
     "elapsed": 312,
     "status": "ok",
     "timestamp": 1662094329568,
     "user": {
      "displayName": "에너지공학부/구근호",
      "userId": "09292163357270917481"
     },
     "user_tz": -540
    },
    "id": "_fQ4ZphQikpN",
    "outputId": "3d678203-88a2-458d-9736-df815a00963b"
   },
   "outputs": [],
   "source": [
    "a = np.random.random((5,5))\n",
    "print(a)\n",
    "print(a[0,:])\n",
    "print(a[:,0])"
   ]
  },
  {
   "cell_type": "code",
   "execution_count": null,
   "metadata": {
    "colab": {
     "base_uri": "https://localhost:8080/"
    },
    "executionInfo": {
     "elapsed": 298,
     "status": "ok",
     "timestamp": 1662094419986,
     "user": {
      "displayName": "에너지공학부/구근호",
      "userId": "09292163357270917481"
     },
     "user_tz": -540
    },
    "id": "SdxAY1kejAIy",
    "outputId": "7a996c21-2f4c-4cf0-fe95-968f0d1b982a"
   },
   "outputs": [],
   "source": [
    "a[:,0] = 1 # broad casting\n",
    "print(a)"
   ]
  },
  {
   "cell_type": "code",
   "execution_count": null,
   "metadata": {
    "colab": {
     "base_uri": "https://localhost:8080/"
    },
    "executionInfo": {
     "elapsed": 314,
     "status": "ok",
     "timestamp": 1662094370053,
     "user": {
      "displayName": "에너지공학부/구근호",
      "userId": "09292163357270917481"
     },
     "user_tz": -540
    },
    "id": "30SyiCB9i06N",
    "outputId": "7bddb9e1-586b-4b61-871d-6abe3fdb763e"
   },
   "outputs": [],
   "source": [
    "print(a>0.5)"
   ]
  },
  {
   "cell_type": "code",
   "execution_count": null,
   "metadata": {
    "colab": {
     "base_uri": "https://localhost:8080/"
    },
    "executionInfo": {
     "elapsed": 4,
     "status": "ok",
     "timestamp": 1662094392850,
     "user": {
      "displayName": "에너지공학부/구근호",
      "userId": "09292163357270917481"
     },
     "user_tz": -540
    },
    "id": "nzELFLzii5QY",
    "outputId": "68956d35-1316-494b-c033-efbcc8680298"
   },
   "outputs": [],
   "source": [
    "print(a[a>0.5]) # boolean indexing"
   ]
  },
  {
   "cell_type": "markdown",
   "metadata": {
    "id": "z5iz3XzwjHC2"
   },
   "source": [
    "### Array math\n",
    "여러가지 매트릭스 연산을 할 수 있다."
   ]
  },
  {
   "cell_type": "code",
   "execution_count": null,
   "metadata": {
    "colab": {
     "base_uri": "https://localhost:8080/"
    },
    "executionInfo": {
     "elapsed": 295,
     "status": "ok",
     "timestamp": 1662094572270,
     "user": {
      "displayName": "에너지공학부/구근호",
      "userId": "09292163357270917481"
     },
     "user_tz": -540
    },
    "id": "tAvaSW-hjVv-",
    "outputId": "a6f390bc-1613-4e81-f531-f17e63888e7e"
   },
   "outputs": [],
   "source": [
    "a = np.random.random((3,3))\n",
    "b = np.random.random((3,3))\n",
    "print(a,b)\n",
    "print(a+b)\n",
    "print(np.matmul(a,b))   # a x b\n",
    "print(np.tensordot(a,b))      # a . b\n",
    "print(a*b)              # element wise multiplication"
   ]
  },
  {
   "cell_type": "code",
   "execution_count": null,
   "metadata": {
    "colab": {
     "base_uri": "https://localhost:8080/"
    },
    "executionInfo": {
     "elapsed": 2,
     "status": "ok",
     "timestamp": 1662094765751,
     "user": {
      "displayName": "에너지공학부/구근호",
      "userId": "09292163357270917481"
     },
     "user_tz": -540
    },
    "id": "aYpmD2XTkQfs",
    "outputId": "8a0665eb-2318-41ef-ee4f-50b0f14ac361"
   },
   "outputs": [],
   "source": [
    "a = np.random.random((5,3))\n",
    "print(a)\n",
    "print('sum',a.sum())\n",
    "print('sum along rows',a.sum(axis=0))\n",
    "print('sum along columns',a.sum(axis=1))\n",
    "print('mean along rows', a.mean(axis=0))\n",
    "print('standard deviation along rows', a.std(axis=0))"
   ]
  },
  {
   "cell_type": "markdown",
   "metadata": {},
   "source": [
    "# Exercise\n",
    "\n",
    "$$\\begin{bmatrix}1 & 2\\\\\n",
    "1 & 3\\\\\n",
    "\\end{bmatrix}\n",
    "\\begin{bmatrix}2\\\\\n",
    "-3\\\\\n",
    "\\end{bmatrix}=?\n",
    "$$"
   ]
  },
  {
   "cell_type": "code",
   "execution_count": null,
   "metadata": {},
   "outputs": [],
   "source": []
  },
  {
   "cell_type": "markdown",
   "metadata": {
    "id": "SCYxgtmvlW3L"
   },
   "source": [
    "## Matplotlib\n",
    "그림을 그릴 수 있다."
   ]
  },
  {
   "cell_type": "code",
   "execution_count": null,
   "metadata": {
    "colab": {
     "base_uri": "https://localhost:8080/",
     "height": 265
    },
    "executionInfo": {
     "elapsed": 872,
     "status": "ok",
     "timestamp": 1662095054815,
     "user": {
      "displayName": "에너지공학부/구근호",
      "userId": "09292163357270917481"
     },
     "user_tz": -540
    },
    "id": "tc6jeqE6la64",
    "outputId": "f284359d-6560-4e71-b552-34b41523a29c"
   },
   "outputs": [],
   "source": [
    "import matplotlib.pyplot as plt\n",
    "x = np.arange(0,3*np.pi,0.1)\n",
    "y = np.sin(x)\n",
    "\n",
    "plt.plot(x, y)\n",
    "plt.show()"
   ]
  },
  {
   "cell_type": "code",
   "execution_count": null,
   "metadata": {
    "colab": {
     "base_uri": "https://localhost:8080/",
     "height": 295
    },
    "executionInfo": {
     "elapsed": 780,
     "status": "ok",
     "timestamp": 1662095075273,
     "user": {
      "displayName": "에너지공학부/구근호",
      "userId": "09292163357270917481"
     },
     "user_tz": -540
    },
    "id": "T7uKQkxzlfnR",
    "outputId": "aca32f88-e977-41e3-8bd3-abdb5b64d039"
   },
   "outputs": [],
   "source": [
    "y_sin = np.sin(x)\n",
    "y_cos = np.cos(x)\n",
    "\n",
    "plt.plot(x, y_sin)\n",
    "plt.plot(x, y_cos)\n",
    "\n",
    "plt.xlabel('x')\n",
    "plt.ylabel('f(x)')\n",
    "plt.title('Sine and Cosine')\n",
    "plt.legend(['Sine', 'Cosine'])\n",
    "plt.axis('tight')\n",
    "plt.show()"
   ]
  },
  {
   "cell_type": "code",
   "execution_count": null,
   "metadata": {
    "colab": {
     "base_uri": "https://localhost:8080/",
     "height": 281
    },
    "executionInfo": {
     "elapsed": 346,
     "status": "ok",
     "timestamp": 1662095125398,
     "user": {
      "displayName": "에너지공학부/구근호",
      "userId": "09292163357270917481"
     },
     "user_tz": -540
    },
    "id": "B3XbDxPglh-g",
    "outputId": "8deb747a-ed35-4fe5-841b-c1e77835a6ee"
   },
   "outputs": [],
   "source": [
    "x = np.arange(0, 3 * np.pi, 0.1)\n",
    "y_sin = np.exp(x)\n",
    "y_cos = np.cos(x)\n",
    "\n",
    "# Set up a subplot grid that has height 2 and width 1,\n",
    "# and set the first such subplot as active.\n",
    "plt.subplot(2, 1, 1)\n",
    "\n",
    "plt.plot(x, y_sin)\n",
    "plt.axis('tight')\n",
    "plt.title('exponential')\n",
    "\n",
    "# Set the second subplot as active, and make the second plot.\n",
    "plt.subplot(2, 1, 2)\n",
    "plt.plot(x, y_cos)\n",
    "plt.axis('tight')\n",
    "plt.title('Cosine')\n",
    "\n",
    "plt.show()"
   ]
  },
  {
   "cell_type": "markdown",
   "metadata": {},
   "source": [
    "## Pandas를 사용한 CSV 파일 읽기\n",
    "Pandas 패키지를 이용해서 csv 파일을 불러 올 수 있다.\n",
    "<img src=\"https://github.com/GuGroup/ShortNNTutorial/blob/main/NNExample/PythonTutorial/data.png?raw=1\" style=\"max-width: 800px;\">"
   ]
  },
  {
   "cell_type": "code",
   "execution_count": null,
   "metadata": {},
   "outputs": [],
   "source": [
    "import urllib.request\n",
    "urllib.request.urlretrieve(\"https://raw.githubusercontent.com/GuGroup/ShortNNTutorial/main/PythonTutorial/data.csv\", \"data.csv\")"
   ]
  },
  {
   "cell_type": "code",
   "execution_count": null,
   "metadata": {},
   "outputs": [],
   "source": [
    "import pandas as pd\n",
    "df = pd.read_csv('data.csv')\n",
    "df.head()"
   ]
  },
  {
   "cell_type": "code",
   "execution_count": null,
   "metadata": {},
   "outputs": [],
   "source": [
    "data = df.to_numpy()\n",
    "print(data.shape)\n",
    "print(data)\n"
   ]
  }
 ],
 "metadata": {
  "colab": {
   "authorship_tag": "ABX9TyPRX/AenfGdvHhQFHFCWs/V",
   "provenance": []
  },
  "kernelspec": {
   "display_name": "Python 3 (ipykernel)",
   "language": "python",
   "name": "python3"
  },
  "language_info": {
   "codemirror_mode": {
    "name": "ipython",
    "version": 3
   },
   "file_extension": ".py",
   "mimetype": "text/x-python",
   "name": "python",
   "nbconvert_exporter": "python",
   "pygments_lexer": "ipython3",
   "version": "3.10.9"
  }
 },
 "nbformat": 4,
 "nbformat_minor": 1
}
